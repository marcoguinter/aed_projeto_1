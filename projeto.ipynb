{
 "cells": [
  {
   "cell_type": "markdown",
   "metadata": {},
   "outputs": [],
   "source": [
    "# Projeto #1 - Análise Exploratória de Dados\n",
    "\n",
    "Antes de começar, leia as [Instruções](https://github.com/thvmm/pos-ds-ia/tree/master/projeto_1#instru%C3%A7%C3%B5es) e os [Critérios de Avaliação](https://github.com/thvmm/pos-ds-ia/tree/master/projeto_1#crit%C3%A9rios-de-avalia%C3%A7%C3%A3o)\n"
   ]
  },
  {
   "cell_type": "markdown",
   "metadata": {},
   "outputs": [],
   "source": [
    "### 1) **(5%)** Qual a base escolhida e qual seu interesse nela?"
   ]
  },
  {
   "cell_type": "markdown",
   "metadata": {},
   "outputs": [],
   "source": [
    "*Indique o link da base no Kaggle e explique em um parágrafo curto por que essa base é interessante para você.*\n",
    "\n",
    "https://www.kaggle.com/jboysen/injured-workers\n",
    "\n",
    "Escolhi esta base de dados porque contém dados de acidentes do trabalho, área em que tenho familiaridade pois poussuo uma empresa de presetação de serviços (www.erplan.com.br) que tem como principal produto um software de gestão de Saúde, Segurança do Trabalho, Meio Ambiente e Qualidade.\n",
    "\n",
    "Apesar dos dados desta base refletirem uma realidade distante da brasileira, quero investigar justamente as características da base de dados, que conta com um volume razoável de informações brutas (26 colunas x 22.000 linhas), com acidentes graves de trabalho - amputação, fraturas, queimaduras etc.) entre 1/1/2015 e 28/2/2017 em 4.643 cidades dos Estados Unidos nos 54 estados dos Estados Unidos."
   ]
  },
  {
   "cell_type": "code",
   "execution_count": 10,
   "outputs": [],
   "source": [
    "# Bibliotecas\n",
    "import matplotlib.pyplot as plt # visualização de dados\n",
    "import numpy as np # linear algebra\n",
    "import pandas as pd # data processing\n",
    "from geopy.geocoders import Nominatim as geo # geoprocessamento\n",
    "\n",
    "\n"
   ],
   "metadata": {
    "collapsed": false,
    "pycharm": {
     "name": "#%%\n",
     "is_executing": false
    }
   }
  },
  {
   "cell_type": "code",
   "execution_count": 11,
   "outputs": [
    {
     "data": {
      "text/plain": "           ID     UPA EventDate  \\\n0  2015010015  931176  1/1/2015   \n1  2015010016  930267  1/1/2015   \n2  2015010018  929823  1/1/2015   \n3  2015010019  929711  1/1/2015   \n4  2015010020  929642  1/1/2015   \n\n                                         Employer               Address1  \\\n0  FCI Otisville Federal Correctional Institution         Two Mile Drive   \n1                      Kalahari Manufacturing LLC     171 Progress Drive   \n2                 Schneider National Bulk Carrier    420 CORAOPOLIS ROAD   \n3                       PEPSI BOTTLING GROUP INC.      4541 HOUSTON AVE.   \n4                 North American Pipe Corporation  210 South Arch Street   \n\n  Address2         City         State      Zip  Latitude  ...  Nature  \\\n0      NaN    OTISVILLE      NEW YORK  10963.0     41.46  ...     111   \n1      NaN  LAKE DELTON     WISCONSIN  53940.0     43.59  ...    1522   \n2      NaN   CORAOPOLIS  PENNSYLVANIA  15108.0     40.49  ...      10   \n3      NaN        MACON       GEORGIA  31206.0     32.77  ...    1972   \n4      NaN   JANESVILLE     WISCONSIN  53545.0     42.67  ...     111   \n\n                                     NatureTitle  Part of Body  \\\n0                                      Fractures           513   \n1             Second degree heat (thermal) burns           519   \n2  Traumatic injuries and disorders, unspecified          9999   \n3       Soreness, pain, hurt-nonspecified injury           510   \n4                                      Fractures          4429   \n\n                 Part of Body Title  Event  \\\n0                      Lower leg(s)   1214   \n1                    Leg(s), n.e.c.    317   \n2                   Nonclassifiable   4331   \n3               Leg(s), unspecified    640   \n4  Finger(s), fingernail(s), n.e.c.   6411   \n\n                                          EventTitle  Source  \\\n0  Injured by physical contact with person while ...    5721   \n1              Ignition of vapors, gases, or liquids    7261   \n2         Other fall to lower level less than 6 feet    8421   \n3  Caught in or compressed by equipment or object...    8623   \n4  Caught in running equipment or machinery durin...     350   \n\n                                         SourceTitle  Secondary Source  \\\n0                                          Co-worker            5772.0   \n1                 Welding, cutting, and blow torches               NaN   \n2                Semi, tractor-trailer, tanker truck             741.0   \n3                                Pallet jack-powered            8420.0   \n4  Metal, woodworking, and special material machi...               NaN   \n\n                              Secondary Source Title  \n0                      Inmate or detainee in custody  \n1                                                NaN  \n2                                      Ladders-fixed  \n3  Truck-motorized freight hauling and utility, u...  \n4                                                NaN  \n\n[5 rows x 26 columns]",
      "text/html": "<div>\n<style scoped>\n    .dataframe tbody tr th:only-of-type {\n        vertical-align: middle;\n    }\n\n    .dataframe tbody tr th {\n        vertical-align: top;\n    }\n\n    .dataframe thead th {\n        text-align: right;\n    }\n</style>\n<table border=\"1\" class=\"dataframe\">\n  <thead>\n    <tr style=\"text-align: right;\">\n      <th></th>\n      <th>ID</th>\n      <th>UPA</th>\n      <th>EventDate</th>\n      <th>Employer</th>\n      <th>Address1</th>\n      <th>Address2</th>\n      <th>City</th>\n      <th>State</th>\n      <th>Zip</th>\n      <th>Latitude</th>\n      <th>...</th>\n      <th>Nature</th>\n      <th>NatureTitle</th>\n      <th>Part of Body</th>\n      <th>Part of Body Title</th>\n      <th>Event</th>\n      <th>EventTitle</th>\n      <th>Source</th>\n      <th>SourceTitle</th>\n      <th>Secondary Source</th>\n      <th>Secondary Source Title</th>\n    </tr>\n  </thead>\n  <tbody>\n    <tr>\n      <th>0</th>\n      <td>2015010015</td>\n      <td>931176</td>\n      <td>1/1/2015</td>\n      <td>FCI Otisville Federal Correctional Institution</td>\n      <td>Two Mile Drive</td>\n      <td>NaN</td>\n      <td>OTISVILLE</td>\n      <td>NEW YORK</td>\n      <td>10963.0</td>\n      <td>41.46</td>\n      <td>...</td>\n      <td>111</td>\n      <td>Fractures</td>\n      <td>513</td>\n      <td>Lower leg(s)</td>\n      <td>1214</td>\n      <td>Injured by physical contact with person while ...</td>\n      <td>5721</td>\n      <td>Co-worker</td>\n      <td>5772.0</td>\n      <td>Inmate or detainee in custody</td>\n    </tr>\n    <tr>\n      <th>1</th>\n      <td>2015010016</td>\n      <td>930267</td>\n      <td>1/1/2015</td>\n      <td>Kalahari Manufacturing LLC</td>\n      <td>171 Progress Drive</td>\n      <td>NaN</td>\n      <td>LAKE DELTON</td>\n      <td>WISCONSIN</td>\n      <td>53940.0</td>\n      <td>43.59</td>\n      <td>...</td>\n      <td>1522</td>\n      <td>Second degree heat (thermal) burns</td>\n      <td>519</td>\n      <td>Leg(s), n.e.c.</td>\n      <td>317</td>\n      <td>Ignition of vapors, gases, or liquids</td>\n      <td>7261</td>\n      <td>Welding, cutting, and blow torches</td>\n      <td>NaN</td>\n      <td>NaN</td>\n    </tr>\n    <tr>\n      <th>2</th>\n      <td>2015010018</td>\n      <td>929823</td>\n      <td>1/1/2015</td>\n      <td>Schneider National Bulk Carrier</td>\n      <td>420 CORAOPOLIS ROAD</td>\n      <td>NaN</td>\n      <td>CORAOPOLIS</td>\n      <td>PENNSYLVANIA</td>\n      <td>15108.0</td>\n      <td>40.49</td>\n      <td>...</td>\n      <td>10</td>\n      <td>Traumatic injuries and disorders, unspecified</td>\n      <td>9999</td>\n      <td>Nonclassifiable</td>\n      <td>4331</td>\n      <td>Other fall to lower level less than 6 feet</td>\n      <td>8421</td>\n      <td>Semi, tractor-trailer, tanker truck</td>\n      <td>741.0</td>\n      <td>Ladders-fixed</td>\n    </tr>\n    <tr>\n      <th>3</th>\n      <td>2015010019</td>\n      <td>929711</td>\n      <td>1/1/2015</td>\n      <td>PEPSI BOTTLING GROUP INC.</td>\n      <td>4541 HOUSTON AVE.</td>\n      <td>NaN</td>\n      <td>MACON</td>\n      <td>GEORGIA</td>\n      <td>31206.0</td>\n      <td>32.77</td>\n      <td>...</td>\n      <td>1972</td>\n      <td>Soreness, pain, hurt-nonspecified injury</td>\n      <td>510</td>\n      <td>Leg(s), unspecified</td>\n      <td>640</td>\n      <td>Caught in or compressed by equipment or object...</td>\n      <td>8623</td>\n      <td>Pallet jack-powered</td>\n      <td>8420.0</td>\n      <td>Truck-motorized freight hauling and utility, u...</td>\n    </tr>\n    <tr>\n      <th>4</th>\n      <td>2015010020</td>\n      <td>929642</td>\n      <td>1/1/2015</td>\n      <td>North American Pipe Corporation</td>\n      <td>210 South Arch Street</td>\n      <td>NaN</td>\n      <td>JANESVILLE</td>\n      <td>WISCONSIN</td>\n      <td>53545.0</td>\n      <td>42.67</td>\n      <td>...</td>\n      <td>111</td>\n      <td>Fractures</td>\n      <td>4429</td>\n      <td>Finger(s), fingernail(s), n.e.c.</td>\n      <td>6411</td>\n      <td>Caught in running equipment or machinery durin...</td>\n      <td>350</td>\n      <td>Metal, woodworking, and special material machi...</td>\n      <td>NaN</td>\n      <td>NaN</td>\n    </tr>\n  </tbody>\n</table>\n<p>5 rows × 26 columns</p>\n</div>"
     },
     "metadata": {},
     "output_type": "execute_result",
     "execution_count": 11
    }
   ],
   "source": [
    "df = pd.read_csv(\"database/severeinjury.csv\", \n",
    "     engine='python')\n",
    "\n",
    "\n",
    "df.head(5)"
   ],
   "metadata": {
    "collapsed": false,
    "pycharm": {
     "name": "#%%\n",
     "is_executing": false
    }
   }
  },
  {
   "cell_type": "markdown",
   "metadata": {},
   "outputs": [],
   "source": [
    "### 2) **(5%)** Descrição básica do conjunto de dados escolhido pelo aluno (1 parágrafo).\n",
    "- Identificação da variável a serem trabalhadas\n",
    "- Classificação das variáveis como: contínua ou discreta.\n"
   ]
  },
  {
   "cell_type": "code",
   "execution_count": 12,
   "outputs": [
    {
     "data": {
      "text/plain": "Index(['ID', 'UPA', 'EventDate', 'Employer', 'Address1', 'Address2', 'City',\n       'State', 'Zip', 'Latitude', 'Longitude', 'Primary NAICS',\n       'Hospitalized', 'Amputation', 'Inspection', 'Final Narrative', 'Nature',\n       'NatureTitle', 'Part of Body', 'Part of Body Title', 'Event',\n       'EventTitle', 'Source', 'SourceTitle', 'Secondary Source',\n       'Secondary Source Title'],\n      dtype='object')"
     },
     "metadata": {},
     "output_type": "execute_result",
     "execution_count": 12
    }
   ],
   "source": [
    "df.columns"
   ],
   "metadata": {
    "collapsed": false,
    "pycharm": {
     "name": "#%%\n",
     "is_executing": false
    }
   }
  },
  {
   "cell_type": "markdown",
   "metadata": {},
   "outputs": [],
   "source": [
    "*Descrição da base e suas variáveis*\n",
    "\n",
    "É um banco com dados de acidentes graves de trabalho, com detalhamento da gravidade do acidente, parte do corpo atingida, natureza da lesão e também informações demográficas, especialmente cidade e estado, permitindo comparações das features de gravidade dos acidentes em relação aos estados e cidades.\n",
    "\n"
   ]
  },
  {
   "cell_type": "markdown",
   "metadata": {},
   "outputs": [],
   "source": [
    "### 3) **(15%)** Faça uma avaliação descritiva da sua base. Quantas linhas ela possui? Quais os tipos de dados? Quantas e quais features possuem?\n",
    "\n",
    "Cada variável escolhida pelo aluno precisa passar por ao menos 1 pré-processamento. O pré-processamento pode ser (mas não está limitado a):\n",
    "- Checagem se os valores estão dentro de um limite permitido ou razoável.\n",
    "- Tratamento de valores ausentes por eliminação ou substituição.\n",
    "- Conversão do tipo de dados.\n",
    "\n",
    "\n"
   ]
  },
  {
   "cell_type": "markdown",
   "source": [
    "Consultando linhas e colunas"
   ],
   "metadata": {
    "collapsed": false,
    "pycharm": {
     "name": "#%% md\n",
     "is_executing": false
    }
   }
  },
  {
   "cell_type": "code",
   "execution_count": 13,
   "outputs": [
    {
     "data": {
      "text/plain": "(21578, 26)"
     },
     "metadata": {},
     "output_type": "execute_result",
     "execution_count": 13
    }
   ],
   "source": [
    "df.shape"
   ],
   "metadata": {
    "collapsed": false,
    "pycharm": {
     "name": "#%%\n",
     "is_executing": false
    }
   }
  },
  {
   "cell_type": "markdown",
   "metadata": {
    "pycharm": {
     "name": "#%% md\n"
    }
   },
   "source": [
    "A base contém 21.578 linhas e 26 colunas\n",
    "\n",
    "Colunas: \n",
    "- (-) ID: Identificador chave PK da linha, irrelevante para estatística\n",
    "- (-) UPA: Valor numérico não identificado\n",
    "- (+) EventDate: Data do incidente/acidente\n",
    "- (-) Employer: Nome do empregado\n",
    "- (-) Address1: Endereço do empregado\n",
    "- (-) Address2: Continuação do endereço\n",
    "- (+) City: Cidade\n",
    "- (+) State: Estado\n",
    "- (-) Zip: CEP\n",
    "- (+) Latitude\n",
    "- (+) Longitude\n",
    "- (-)Primay NAICS (Numérico não identificado)\n",
    "- (+) Hospitalized (Binário)\n",
    "- (+) Amputation (Binário)\n",
    "- (-) Inspection (Numérico) - Código\n",
    "- (-) Final Narrative (Descrição)\n",
    "- (+) Nature (Código da Natureza)\n",
    "- (+) Nature Title\n",
    "- (+) Part of Body (Código da parte do corpo)\n",
    "- (+) Part of Body Title\n",
    "- (+) Event (Código do evento)\n",
    "- (+) Event Title\n",
    "- (+) Source (Código da Fonte)\n",
    "- (+) Source title\n",
    "- (+) Secondary Source (Código da fonte secundária)\n",
    "- (+) Secondary Source Title\n",
    "\n",
    "Das 26 colunas, 17 serão utilizadas (+), sendo as últimas 10 são informações repetidas (código/descrição).\n",
    "As colunas marcadas com (-) não serão utilizadas na análise.\n",
    "Há necessidades de colunas adicionais auxiliares como quebrar EventDate em Dia, mês e ano e dia da semana."
   ]
  },
  {
   "cell_type": "markdown",
   "source": [
    "Dropando as colunas desnecessárias"
   ],
   "metadata": {
    "collapsed": false,
    "pycharm": {
     "name": "#%% md\n",
     "is_executing": false
    }
   }
  },
  {
   "cell_type": "code",
   "execution_count": 14,
   "outputs": [],
   "source": [
    "df=df.drop(['ID', 'UPA', 'Employer', 'Address1', 'Address2', 'Zip','Primary NAICS','Inspection', 'Final Narrative'],axis = 1)"
   ],
   "metadata": {
    "collapsed": false,
    "pycharm": {
     "name": "#%%\n",
     "is_executing": false
    }
   }
  },
  {
   "cell_type": "markdown",
   "source": [
    "Mostrando as colunas resultantes"
   ],
   "metadata": {
    "collapsed": false,
    "pycharm": {
     "name": "#%% md\n",
     "is_executing": false
    }
   }
  },
  {
   "cell_type": "code",
   "execution_count": 15,
   "outputs": [
    {
     "data": {
      "text/plain": "Index(['EventDate', 'City', 'State', 'Latitude', 'Longitude', 'Hospitalized',\n       'Amputation', 'Nature', 'NatureTitle', 'Part of Body',\n       'Part of Body Title', 'Event', 'EventTitle', 'Source', 'SourceTitle',\n       'Secondary Source', 'Secondary Source Title'],\n      dtype='object')"
     },
     "metadata": {},
     "output_type": "execute_result",
     "execution_count": 15
    }
   ],
   "source": [
    "df.columns"
   ],
   "metadata": {
    "collapsed": false,
    "pycharm": {
     "name": "#%%\n",
     "is_executing": false
    }
   }
  },
  {
   "cell_type": "markdown",
   "source": [
    "Mostrando os tipos existentes"
   ],
   "metadata": {
    "collapsed": false,
    "pycharm": {
     "name": "#%% md\n",
     "is_executing": false
    }
   }
  },
  {
   "cell_type": "code",
   "execution_count": 16,
   "outputs": [
    {
     "data": {
      "text/plain": "EventDate                  object\nCity                       object\nState                      object\nLatitude                  float64\nLongitude                 float64\nHospitalized              float64\nAmputation                float64\nNature                      int64\nNatureTitle                object\nPart of Body                int64\nPart of Body Title         object\nEvent                       int64\nEventTitle                 object\nSource                      int64\nSourceTitle                object\nSecondary Source          float64\nSecondary Source Title     object\ndtype: object"
     },
     "metadata": {},
     "output_type": "execute_result",
     "execution_count": 16
    }
   ],
   "source": [
    "df.dtypes"
   ],
   "metadata": {
    "collapsed": false,
    "pycharm": {
     "name": "#%%\n",
     "is_executing": false
    }
   }
  },
  {
   "cell_type": "markdown",
   "source": [
    "Informações importantes sobre o dataframe para Insights"
   ],
   "metadata": {
    "collapsed": false,
    "pycharm": {
     "name": "#%% md\n",
     "is_executing": false
    }
   }
  },
  {
   "cell_type": "code",
   "execution_count": 17,
   "outputs": [
    {
     "data": {
      "text/plain": "           Latitude     Longitude  Hospitalized    Amputation        Nature  \\\ncount  21487.000000  21487.000000  21578.000000  21576.000000  21578.000000   \nmean      36.722735    -87.691200      0.807999      0.269837    886.975206   \nstd        5.500293     11.132113      0.412055      0.451033    779.275403   \nmin      -15.780000   -170.710000      0.000000      0.000000      7.000000   \n25%       32.200000    -95.400000      1.000000      0.000000    111.000000   \n50%       38.770000    -87.660000      1.000000      0.000000   1311.000000   \n75%       41.090000    -80.625000      1.000000      1.000000   1312.000000   \nmax       61.290000    145.750000      3.000000      9.000000   9999.000000   \n\n       Part of Body         Event        Source  Secondary Source  \ncount  21578.000000  21578.000000  21578.000000       5812.000000  \nmean    2282.536055   3905.397071   4811.297618       5210.936855  \nstd     2796.269288   2523.757451   2882.715191       3227.633387  \nmin        6.000000     20.000000     10.000000         10.000000  \n25%      320.000000    642.000000   3230.000000       2214.000000  \n50%      513.000000   4331.000000   4153.500000       4418.000000  \n75%     4422.000000   6252.000000   7124.000000       8621.000000  \nmax     9999.000000   9999.000000   9999.000000       9999.000000  ",
      "text/html": "<div>\n<style scoped>\n    .dataframe tbody tr th:only-of-type {\n        vertical-align: middle;\n    }\n\n    .dataframe tbody tr th {\n        vertical-align: top;\n    }\n\n    .dataframe thead th {\n        text-align: right;\n    }\n</style>\n<table border=\"1\" class=\"dataframe\">\n  <thead>\n    <tr style=\"text-align: right;\">\n      <th></th>\n      <th>Latitude</th>\n      <th>Longitude</th>\n      <th>Hospitalized</th>\n      <th>Amputation</th>\n      <th>Nature</th>\n      <th>Part of Body</th>\n      <th>Event</th>\n      <th>Source</th>\n      <th>Secondary Source</th>\n    </tr>\n  </thead>\n  <tbody>\n    <tr>\n      <th>count</th>\n      <td>21487.000000</td>\n      <td>21487.000000</td>\n      <td>21578.000000</td>\n      <td>21576.000000</td>\n      <td>21578.000000</td>\n      <td>21578.000000</td>\n      <td>21578.000000</td>\n      <td>21578.000000</td>\n      <td>5812.000000</td>\n    </tr>\n    <tr>\n      <th>mean</th>\n      <td>36.722735</td>\n      <td>-87.691200</td>\n      <td>0.807999</td>\n      <td>0.269837</td>\n      <td>886.975206</td>\n      <td>2282.536055</td>\n      <td>3905.397071</td>\n      <td>4811.297618</td>\n      <td>5210.936855</td>\n    </tr>\n    <tr>\n      <th>std</th>\n      <td>5.500293</td>\n      <td>11.132113</td>\n      <td>0.412055</td>\n      <td>0.451033</td>\n      <td>779.275403</td>\n      <td>2796.269288</td>\n      <td>2523.757451</td>\n      <td>2882.715191</td>\n      <td>3227.633387</td>\n    </tr>\n    <tr>\n      <th>min</th>\n      <td>-15.780000</td>\n      <td>-170.710000</td>\n      <td>0.000000</td>\n      <td>0.000000</td>\n      <td>7.000000</td>\n      <td>6.000000</td>\n      <td>20.000000</td>\n      <td>10.000000</td>\n      <td>10.000000</td>\n    </tr>\n    <tr>\n      <th>25%</th>\n      <td>32.200000</td>\n      <td>-95.400000</td>\n      <td>1.000000</td>\n      <td>0.000000</td>\n      <td>111.000000</td>\n      <td>320.000000</td>\n      <td>642.000000</td>\n      <td>3230.000000</td>\n      <td>2214.000000</td>\n    </tr>\n    <tr>\n      <th>50%</th>\n      <td>38.770000</td>\n      <td>-87.660000</td>\n      <td>1.000000</td>\n      <td>0.000000</td>\n      <td>1311.000000</td>\n      <td>513.000000</td>\n      <td>4331.000000</td>\n      <td>4153.500000</td>\n      <td>4418.000000</td>\n    </tr>\n    <tr>\n      <th>75%</th>\n      <td>41.090000</td>\n      <td>-80.625000</td>\n      <td>1.000000</td>\n      <td>1.000000</td>\n      <td>1312.000000</td>\n      <td>4422.000000</td>\n      <td>6252.000000</td>\n      <td>7124.000000</td>\n      <td>8621.000000</td>\n    </tr>\n    <tr>\n      <th>max</th>\n      <td>61.290000</td>\n      <td>145.750000</td>\n      <td>3.000000</td>\n      <td>9.000000</td>\n      <td>9999.000000</td>\n      <td>9999.000000</td>\n      <td>9999.000000</td>\n      <td>9999.000000</td>\n      <td>9999.000000</td>\n    </tr>\n  </tbody>\n</table>\n</div>"
     },
     "metadata": {},
     "output_type": "execute_result",
     "execution_count": 17
    }
   ],
   "source": [
    "df.describe()"
   ],
   "metadata": {
    "collapsed": false,
    "pycharm": {
     "name": "#%%\n",
     "is_executing": false
    }
   }
  },
  {
   "cell_type": "markdown",
   "source": [
    "Analisando individualmente algumas colunas"
   ],
   "metadata": {
    "collapsed": false,
    "pycharm": {
     "name": "#%% md\n",
     "is_executing": false
    }
   }
  },
  {
   "cell_type": "code",
   "execution_count": 18,
   "outputs": [
    {
     "data": {
      "text/plain": "count       21569\nunique       4642\ntop       HOUSTON\nfreq          403\nName: City, dtype: object"
     },
     "metadata": {},
     "output_type": "execute_result",
     "execution_count": 18
    }
   ],
   "source": [
    "df[\"City\"].describe()"
   ],
   "metadata": {
    "collapsed": false,
    "pycharm": {
     "name": "#%% \n",
     "is_executing": false
    }
   }
  },
  {
   "cell_type": "code",
   "execution_count": 19,
   "outputs": [
    {
     "data": {
      "text/plain": "count    21578.000000\nmean      2282.536055\nstd       2796.269288\nmin          6.000000\n25%        320.000000\n50%        513.000000\n75%       4422.000000\nmax       9999.000000\nName: Part of Body, dtype: float64"
     },
     "metadata": {},
     "output_type": "execute_result",
     "execution_count": 19
    }
   ],
   "source": [
    "df[\"Part of Body\"].describe()"
   ],
   "metadata": {
    "collapsed": false,
    "pycharm": {
     "name": "#%%\n",
     "is_executing": false
    }
   }
  },
  {
   "cell_type": "markdown",
   "source": [
    "Valores únicos de Origem do Acidente"
   ],
   "metadata": {
    "collapsed": false,
    "pycharm": {
     "name": "#%% md\n"
    }
   }
  },
  {
   "cell_type": "code",
   "execution_count": 20,
   "outputs": [
    {
     "data": {
      "text/plain": "903"
     },
     "metadata": {},
     "output_type": "execute_result",
     "execution_count": 20
    }
   ],
   "source": [
    "len (df[\"Source\"].unique())"
   ],
   "metadata": {
    "collapsed": false,
    "pycharm": {
     "name": "#%%\n",
     "is_executing": false
    }
   }
  },
  {
   "cell_type": "code",
   "execution_count": 21,
   "outputs": [
    {
     "traceback": [
      "\u001b[0;36m  File \u001b[0;32m\"<ipython-input-21-82bd2b975e80>\"\u001b[0;36m, line \u001b[0;32m1\u001b[0m\n\u001b[0;31m    Encontradas 903 fontes diferentes na base\u001b[0m\n\u001b[0m                  ^\u001b[0m\n\u001b[0;31mSyntaxError\u001b[0m\u001b[0;31m:\u001b[0m invalid syntax\n"
     ],
     "ename": "SyntaxError",
     "evalue": "invalid syntax (<ipython-input-21-82bd2b975e80>, line 1)",
     "output_type": "error"
    }
   ],
   "source": [
    "Encontradas 903 fontes diferentes na base "
   ],
   "metadata": {
    "collapsed": false,
    "pycharm": {
     "name": "#%%md \n",
     "is_executing": false
    }
   }
  },
  {
   "cell_type": "code",
   "execution_count": null,
   "outputs": [],
   "source": [
    "Verificando se há valores nulos em algum lugar que possam ser substituídos\n",
    "\n",
    "Gerando um novo dataframe só com os valores nulos"
   ],
   "metadata": {
    "collapsed": false,
    "pycharm": {
     "name": "#%% md \n",
     "is_executing": false
    }
   }
  },
  {
   "cell_type": "code",
   "execution_count": null,
   "outputs": [],
   "source": [
    "df1 = df[df.isna().any(axis=1)]\n",
    "df1.head()"
   ],
   "metadata": {
    "collapsed": false,
    "pycharm": {
     "name": "#%%\n",
     "is_executing": false
    }
   }
  },
  {
   "cell_type": "markdown",
   "source": [
    "Eliminando o dataframe auxiliar"
   ],
   "metadata": {
    "collapsed": false,
    "pycharm": {
     "name": "#%% md\n"
    }
   }
  },
  {
   "cell_type": "code",
   "execution_count": null,
   "outputs": [],
   "source": [
    "del df1"
   ],
   "metadata": {
    "collapsed": false,
    "pycharm": {
     "name": "#%%\n",
     "is_executing": false
    }
   }
  },
  {
   "cell_type": "markdown",
   "source": [
    "Identificado que a coluna Secondary Source tem muitos valores nulos, dropando as colunas equivalentes"
   ],
   "metadata": {
    "collapsed": false,
    "pycharm": {
     "name": "#%% md\n",
     "is_executing": false
    }
   }
  },
  {
   "cell_type": "code",
   "execution_count": null,
   "outputs": [],
   "source": [
    "df=df.drop(['Secondary Source','Secondary Source Title'],axis=1)\n",
    "\n",
    "df.head(10)"
   ],
   "metadata": {
    "collapsed": false,
    "pycharm": {
     "name": "#%%\n",
     "is_executing": false
    }
   }
  },
  {
   "cell_type": "markdown",
   "source": [
    "Checando novamente se há valores nulos "
   ],
   "metadata": {
    "collapsed": false,
    "pycharm": {
     "name": "#%% md\n",
     "is_executing": false
    }
   }
  },
  {
   "cell_type": "code",
   "execution_count": null,
   "outputs": [],
   "source": [
    "df.isnull().values.any()\n",
    "df.isnull().sum() \n",
    " "
   ],
   "metadata": {
    "collapsed": false,
    "pycharm": {
     "name": "#%%\n",
     "is_executing": false
    }
   }
  },
  {
   "cell_type": "markdown",
   "source": [
    "Verificado que nas colunas City, Latitude, Longitude e Amputation há valores nulos\n",
    "\n",
    "No caso de Amputation, é possível deduzir que caso seja nulo, posso assumir que seja 0 (binário)"
   ],
   "metadata": {
    "collapsed": false,
    "pycharm": {
     "name": "#%% md\n",
     "is_executing": false
    }
   }
  },
  {
   "cell_type": "code",
   "execution_count": null,
   "outputs": [],
   "source": [
    "df['Amputation'].fillna(0, inplace=True)"
   ],
   "metadata": {
    "collapsed": false,
    "pycharm": {
     "name": "#%%\n",
     "is_executing": false
    }
   }
  },
  {
   "cell_type": "markdown",
   "source": [
    "No caso de Latitude e Longitude, se a Cidade estiver preenchida, teoricamente é possível descobrir a latitude e longitude usando algum tipo de API"
   ],
   "metadata": {
    "collapsed": false,
    "pycharm": {
     "name": "#%% md\n"
    }
   }
  },
  {
   "cell_type": "code",
   "execution_count": 22,
   "outputs": [
    {
     "data": {
      "text/plain": "        EventDate City          State  Latitude  Longitude  Hospitalized  \\\n538     1/21/2015  NaN       OKLAHOMA     36.75     -98.35           1.0   \n5580    7/24/2015  NaN  MASSACHUSETTS     42.38     -71.08           1.0   \n6050     8/7/2015  NaN   NORTH DAKOTA     47.81    -103.23           1.0   \n6223    8/13/2015  NaN          TEXAS     29.63     -95.17           1.0   \n7909   10/14/2015  NaN        ARIZONA     33.39    -112.04           0.0   \n9205    12/3/2015  NaN     CALIFORNIA     37.87    -122.24           1.0   \n9208    12/3/2015  NaN  MASSACHUSETTS     42.56     -71.13           1.0   \n12925   4/28/2016  NaN     NEW JERSEY      0.00       0.00           1.0   \n21002    2/8/2017  NaN       NEW YORK     40.71     -74.00           1.0   \n\n       Amputation  Nature                                    NatureTitle  \\\n538           1.0    1311                                    Amputations   \n5580          1.0    1311                                    Amputations   \n6050          0.0      10  Traumatic injuries and disorders, unspecified   \n6223          0.0    1729              Effects of heat and light, n.e.c.   \n7909          1.0    1311                                    Amputations   \n9205          0.0    1972       Soreness, pain, hurt-nonspecified injury   \n9208          0.0     111                                      Fractures   \n12925         0.0     111                                      Fractures   \n21002         0.0      10  Traumatic injuries and disorders, unspecified   \n\n       Part of Body                                 Part of Body Title  Event  \\\n538             449                                    Hand(s), n.e.c.   6269   \n5580           4421                        Fingernail(s), nailbed(s)     9999   \n6050           9999                                    Nonclassifiable    620   \n6223              6                                       BODY SYSTEMS    531   \n7909           4422                                       Fingertip(s)   6213   \n9205            899                        Multiple body parts, n.e.c.    422   \n9208            310  Chest, except internal location of diseases or...   6239   \n12925            43                                           Wrist(s)   4330   \n21002          9999                                    Nonclassifiable    422   \n\n                                              EventTitle  Source  \\\n538    Struck by swinging or slipping object, other t...    3244   \n5580                                     Nonclassifiable    9999   \n6050          Struck by object or equipment, unspecified    9999   \n6223                      Exposure to environmental heat    9262   \n7909          Struck by swinging part of powered vehicle    8426   \n9205                 Fall on same level due to slipping     6629   \n9208       Struck by falling object or equipment, n.e.c.    2236   \n12925             Other fall to lower level, unspecified    8420   \n21002                Fall on same level due to slipping      660   \n\n                                             SourceTitle  Secondary Source  \\\n538                      Oil drilling rigs and machinery               NaN   \n5580                                     Nonclassifiable               NaN   \n6050                                     Nonclassifiable               NaN   \n6223                                  Heat-environmental               NaN   \n7909                               Delivery truck or van               NaN   \n9205                                       Floor, n.e.c.            9520.0   \n9208                                  Tables, worktables               NaN   \n12925  Truck-motorized freight hauling and utility, u...               NaN   \n21002     Floors, walkways, ground surfaces, unspecified            9273.0   \n\n      Secondary Source Title  \n538                      NaN  \n5580                     NaN  \n6050                     NaN  \n6223                     NaN  \n7909                     NaN  \n9205    Liquids, unspecified  \n9208                     NaN  \n12925                    NaN  \n21002       Ice, sleet, snow  ",
      "text/html": "<div>\n<style scoped>\n    .dataframe tbody tr th:only-of-type {\n        vertical-align: middle;\n    }\n\n    .dataframe tbody tr th {\n        vertical-align: top;\n    }\n\n    .dataframe thead th {\n        text-align: right;\n    }\n</style>\n<table border=\"1\" class=\"dataframe\">\n  <thead>\n    <tr style=\"text-align: right;\">\n      <th></th>\n      <th>EventDate</th>\n      <th>City</th>\n      <th>State</th>\n      <th>Latitude</th>\n      <th>Longitude</th>\n      <th>Hospitalized</th>\n      <th>Amputation</th>\n      <th>Nature</th>\n      <th>NatureTitle</th>\n      <th>Part of Body</th>\n      <th>Part of Body Title</th>\n      <th>Event</th>\n      <th>EventTitle</th>\n      <th>Source</th>\n      <th>SourceTitle</th>\n      <th>Secondary Source</th>\n      <th>Secondary Source Title</th>\n    </tr>\n  </thead>\n  <tbody>\n    <tr>\n      <th>538</th>\n      <td>1/21/2015</td>\n      <td>NaN</td>\n      <td>OKLAHOMA</td>\n      <td>36.75</td>\n      <td>-98.35</td>\n      <td>1.0</td>\n      <td>1.0</td>\n      <td>1311</td>\n      <td>Amputations</td>\n      <td>449</td>\n      <td>Hand(s), n.e.c.</td>\n      <td>6269</td>\n      <td>Struck by swinging or slipping object, other t...</td>\n      <td>3244</td>\n      <td>Oil drilling rigs and machinery</td>\n      <td>NaN</td>\n      <td>NaN</td>\n    </tr>\n    <tr>\n      <th>5580</th>\n      <td>7/24/2015</td>\n      <td>NaN</td>\n      <td>MASSACHUSETTS</td>\n      <td>42.38</td>\n      <td>-71.08</td>\n      <td>1.0</td>\n      <td>1.0</td>\n      <td>1311</td>\n      <td>Amputations</td>\n      <td>4421</td>\n      <td>Fingernail(s), nailbed(s)</td>\n      <td>9999</td>\n      <td>Nonclassifiable</td>\n      <td>9999</td>\n      <td>Nonclassifiable</td>\n      <td>NaN</td>\n      <td>NaN</td>\n    </tr>\n    <tr>\n      <th>6050</th>\n      <td>8/7/2015</td>\n      <td>NaN</td>\n      <td>NORTH DAKOTA</td>\n      <td>47.81</td>\n      <td>-103.23</td>\n      <td>1.0</td>\n      <td>0.0</td>\n      <td>10</td>\n      <td>Traumatic injuries and disorders, unspecified</td>\n      <td>9999</td>\n      <td>Nonclassifiable</td>\n      <td>620</td>\n      <td>Struck by object or equipment, unspecified</td>\n      <td>9999</td>\n      <td>Nonclassifiable</td>\n      <td>NaN</td>\n      <td>NaN</td>\n    </tr>\n    <tr>\n      <th>6223</th>\n      <td>8/13/2015</td>\n      <td>NaN</td>\n      <td>TEXAS</td>\n      <td>29.63</td>\n      <td>-95.17</td>\n      <td>1.0</td>\n      <td>0.0</td>\n      <td>1729</td>\n      <td>Effects of heat and light, n.e.c.</td>\n      <td>6</td>\n      <td>BODY SYSTEMS</td>\n      <td>531</td>\n      <td>Exposure to environmental heat</td>\n      <td>9262</td>\n      <td>Heat-environmental</td>\n      <td>NaN</td>\n      <td>NaN</td>\n    </tr>\n    <tr>\n      <th>7909</th>\n      <td>10/14/2015</td>\n      <td>NaN</td>\n      <td>ARIZONA</td>\n      <td>33.39</td>\n      <td>-112.04</td>\n      <td>0.0</td>\n      <td>1.0</td>\n      <td>1311</td>\n      <td>Amputations</td>\n      <td>4422</td>\n      <td>Fingertip(s)</td>\n      <td>6213</td>\n      <td>Struck by swinging part of powered vehicle</td>\n      <td>8426</td>\n      <td>Delivery truck or van</td>\n      <td>NaN</td>\n      <td>NaN</td>\n    </tr>\n    <tr>\n      <th>9205</th>\n      <td>12/3/2015</td>\n      <td>NaN</td>\n      <td>CALIFORNIA</td>\n      <td>37.87</td>\n      <td>-122.24</td>\n      <td>1.0</td>\n      <td>0.0</td>\n      <td>1972</td>\n      <td>Soreness, pain, hurt-nonspecified injury</td>\n      <td>899</td>\n      <td>Multiple body parts, n.e.c.</td>\n      <td>422</td>\n      <td>Fall on same level due to slipping</td>\n      <td>6629</td>\n      <td>Floor, n.e.c.</td>\n      <td>9520.0</td>\n      <td>Liquids, unspecified</td>\n    </tr>\n    <tr>\n      <th>9208</th>\n      <td>12/3/2015</td>\n      <td>NaN</td>\n      <td>MASSACHUSETTS</td>\n      <td>42.56</td>\n      <td>-71.13</td>\n      <td>1.0</td>\n      <td>0.0</td>\n      <td>111</td>\n      <td>Fractures</td>\n      <td>310</td>\n      <td>Chest, except internal location of diseases or...</td>\n      <td>6239</td>\n      <td>Struck by falling object or equipment, n.e.c.</td>\n      <td>2236</td>\n      <td>Tables, worktables</td>\n      <td>NaN</td>\n      <td>NaN</td>\n    </tr>\n    <tr>\n      <th>12925</th>\n      <td>4/28/2016</td>\n      <td>NaN</td>\n      <td>NEW JERSEY</td>\n      <td>0.00</td>\n      <td>0.00</td>\n      <td>1.0</td>\n      <td>0.0</td>\n      <td>111</td>\n      <td>Fractures</td>\n      <td>43</td>\n      <td>Wrist(s)</td>\n      <td>4330</td>\n      <td>Other fall to lower level, unspecified</td>\n      <td>8420</td>\n      <td>Truck-motorized freight hauling and utility, u...</td>\n      <td>NaN</td>\n      <td>NaN</td>\n    </tr>\n    <tr>\n      <th>21002</th>\n      <td>2/8/2017</td>\n      <td>NaN</td>\n      <td>NEW YORK</td>\n      <td>40.71</td>\n      <td>-74.00</td>\n      <td>1.0</td>\n      <td>0.0</td>\n      <td>10</td>\n      <td>Traumatic injuries and disorders, unspecified</td>\n      <td>9999</td>\n      <td>Nonclassifiable</td>\n      <td>422</td>\n      <td>Fall on same level due to slipping</td>\n      <td>660</td>\n      <td>Floors, walkways, ground surfaces, unspecified</td>\n      <td>9273.0</td>\n      <td>Ice, sleet, snow</td>\n    </tr>\n  </tbody>\n</table>\n</div>"
     },
     "metadata": {},
     "output_type": "execute_result",
     "execution_count": 22
    }
   ],
   "source": [
    "df1 = df[df['City'].isnull()]\n",
    "\n",
    "df1.head(10)"
   ],
   "metadata": {
    "collapsed": false,
    "pycharm": {
     "name": "#%%\n",
     "is_executing": false
    }
   }
  },
  {
   "cell_type": "code",
   "execution_count": 53,
   "outputs": [
    {
     "name": "stdout",
     "text": [
      "Watford City\n"
     ],
     "output_type": "stream"
    }
   ],
   "source": [
    "geolocator = geo(user_agent=\"Python\")\n",
    "location = geolocator.reverse(\"47.81, -103.23\")\n",
    "print (location.raw['address']['city'])\n",
    "#print (getattr(location.raw,'city'))"
   ],
   "metadata": {
    "collapsed": false,
    "pycharm": {
     "name": "#%%\n",
     "is_executing": false
    }
   }
  },
  {
   "cell_type": "markdown",
   "metadata": {},
   "outputs": [],
   "source": [
    "### 4) **(60%)** Nos blocos seguintes construa análises que vão justificar suas conclusões."
   ]
  },
  {
   "cell_type": "code",
   "execution_count": null,
   "outputs": [],
   "source": [
    "# Dropando colunas com valores nulos para evitar erros\n",
    "#df.dropna(inplace = True)  \n",
    "#df.shape\n"
   ],
   "metadata": {
    "collapsed": false,
    "pycharm": {
     "name": "#%%\n",
     "is_executing": false
    }
   }
  },
  {
   "cell_type": "markdown",
   "metadata": {},
   "outputs": [],
   "source": [
    "#### 4.1) **(20%)** Análise 1 -  Distribuição dos valores para cada uma das variáveis\n",
    "- Exemplo para variável contínua: se o conjunto de dados possui a variável \"idade\". Quantos % possui a idade entre 0 e 30 anos? 31 a 59? 60+?\n",
    "\n",
    "- Exemplo para variável discreta: se o conjunto de dados possui a variável \"gênero\", quantos % do conjunto de dados é do sexo feminino, quantos % é masculino? Inclua outros gêneros se houver.\n"
   ]
  },
  {
   "cell_type": "code",
   "execution_count": null,
   "metadata": {
    "pycharm": {
     "is_executing": false
    }
   },
   "outputs": [],
   "source": [
    "# Implemente sua análise aqui. Use mais blocos se achar que ficará mais organizado."
   ]
  },
  {
   "cell_type": "markdown",
   "metadata": {},
   "outputs": [],
   "source": [
    "#### 4.2) **(20%)** Análise 2 - Dependência entre variáveis\n",
    "O aluno deve apresentar as mesmas distribuições para cada valor da variável dependente. Exemplo: Em um conjunto de dados em que as variáveis independentes são idade e sexo, e a variável dependente é renda. O aluno pode dividir a renda em 3 \"grupos\", <1000 reais, entre 1000 e 10000 reais e >1000 reais. Para cada um desses grupos, é necessário apresentar a distribuição das variáveis \"idade\" e \"sexo\".\n"
   ]
  },
  {
   "cell_type": "code",
   "execution_count": null,
   "metadata": {
    "pycharm": {
     "is_executing": false
    }
   },
   "outputs": [],
   "source": [
    "# Implemente sua análise aqui. Use mais blocos se achar que ficará mais organizado."
   ]
  },
  {
   "cell_type": "markdown",
   "metadata": {},
   "outputs": [],
   "source": [
    "#### 4.3) **(20%)** Análise 3 - Correlação entre variáveis\n",
    "\n",
    "O aluno deve apresentar 3 análises de correlação entre variáveis do conjunto de dados trabalhado. Exemplo: Em um conjunto de dados com as informações de temperatura e ocorrência de incêndios, eu gostaria de saber a incidência de correlação entre as duas variáveis.\n",
    "\n"
   ]
  },
  {
   "cell_type": "code",
   "execution_count": null,
   "metadata": {
    "pycharm": {
     "is_executing": false
    }
   },
   "outputs": [],
   "source": [
    "# Primeiro par de variáveis: Implemente sua análise aqui. Use mais blocos se achar que ficará mais organizado."
   ]
  },
  {
   "cell_type": "code",
   "execution_count": null,
   "metadata": {
    "pycharm": {
     "is_executing": false
    }
   },
   "outputs": [],
   "source": [
    "# Segundo par de variáveis: Implemente sua análise aqui. Use mais blocos se achar que ficará mais organizado."
   ]
  },
  {
   "cell_type": "code",
   "execution_count": null,
   "metadata": {
    "pycharm": {
     "is_executing": false
    }
   },
   "outputs": [],
   "source": [
    "# Terceiro par de variáveis: Implemente sua análise aqui. Use mais blocos se achar que ficará mais organizado."
   ]
  },
  {
   "cell_type": "markdown",
   "metadata": {},
   "outputs": [],
   "source": [
    "### 5) Conclusões **15%**"
   ]
  },
  {
   "cell_type": "markdown",
   "metadata": {},
   "outputs": [],
   "source": [
    "*O que é possível concluir com os dados que você analisou? Se fosse fazer uma apresentação, o que levaria como os maiores destaques e por que?*"
   ]
  },
  {
   "cell_type": "markdown",
   "metadata": {},
   "outputs": [],
   "source": []
  }
 ],
 "metadata": {
  "file_extension": ".py",
  "kernelspec": {
   "display_name": "Python 3",
   "language": "python",
   "name": "python3"
  },
  "language_info": {
   "codemirror_mode": {
    "name": "ipython",
    "version": 3
   },
   "file_extension": ".py",
   "mimetype": "text/x-python",
   "name": "python",
   "nbconvert_exporter": "python",
   "pygments_lexer": "ipython3",
   "version": "3.7.4"
  },
  "mimetype": "text/x-python",
  "name": "python",
  "npconvert_exporter": "python",
  "pygments_lexer": "ipython3",
  "version": 3,
  "pycharm": {
   "stem_cell": {
    "cell_type": "raw",
    "source": [],
    "metadata": {
     "collapsed": false
    }
   }
  }
 },
 "nbformat": 4,
 "nbformat_minor": 2
}