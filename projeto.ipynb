{
 "cells": [
  {
   "cell_type": "markdown",
   "metadata": {},
   "outputs": [],
   "source": [
    "# Projeto #1 - Análise Exploratória de Dados\n",
    "\n",
    "Antes de começar, leia as [Instruções](https://github.com/thvmm/pos-ds-ia/tree/master/projeto_1#instru%C3%A7%C3%B5es) e os [Critérios de Avaliação](https://github.com/thvmm/pos-ds-ia/tree/master/projeto_1#crit%C3%A9rios-de-avalia%C3%A7%C3%A3o)\n"
   ]
  },
  {
   "cell_type": "markdown",
   "metadata": {},
   "outputs": [],
   "source": [
    "### 1) **(5%)** Qual a base escolhida e qual seu interesse nela?"
   ]
  },
  {
   "cell_type": "markdown",
   "metadata": {},
   "outputs": [],
   "source": [
    "*Indique o link da base no Kaggle e explique em um parágrafo curto por que essa base é interessante para você.*\n",
    "\n",
    "https://www.kaggle.com/jboysen/injured-workers\n",
    "\n",
    "Escolhi esta base de dados porque contém dados de acidentes do trabalho, área em que tenho familiaridade pois poussuo uma empresa de presetação de serviços (www.erplan.com.br) que tem como principal produto um software de gestão de Saúde, Segurança do Trabalho, Meio Ambiente e Qualidade.\n",
    "\n",
    "Apesar dos dados desta base refletirem uma realidade distante da brasileira, quero investigar justamente as características da base de dados, que conta com um volume razoável de informações brutas (26 colunas x 22.000 linhas), com acidentes graves de trabalho - amputação, fraturas, queimaduras etc.) entre 1/1/2015 e 28/2/2017 em 4.643 cidades dos Estados Unidos nos 54 estados dos Estados Unidos."
   ]
  },
  {
   "cell_type": "code",
   "execution_count": 27,
   "outputs": [],
   "source": [
    "# Bibliotecas\n",
    "import matplotlib.pyplot as plt # visualização de dados\n",
    "import numpy as np # linear algebra\n",
    "import pandas as pd # data processing\n",
    "\n"
   ],
   "metadata": {
    "collapsed": false,
    "pycharm": {
     "name": "#%%\n",
     "is_executing": false
    }
   }
  },
  {
   "cell_type": "code",
   "execution_count": 29,
   "outputs": [
    {
     "data": {
      "text/plain": "              UPA       ID  EventDate  \\\n0              ID      UPA  EventDate   \n1      2015010015   931176   1/1/2015   \n2      2015010016   930267   1/1/2015   \n3      2015010018   929823   1/1/2015   \n4      2015010019   929711   1/1/2015   \n...           ...      ...        ...   \n21574  2017021908  1187496  2/28/2017   \n21575  2017021909  1187261  2/28/2017   \n21576  2017021910  1187351  2/28/2017   \n21577  2017021911  1187282  2/28/2017   \n21578  2017021912  1187132  2/28/2017   \n\n                                             Employer  \\\n0                                            Employer   \n1      FCI Otisville Federal Correctional Institution   \n2                          Kalahari Manufacturing LLC   \n3                     Schneider National Bulk Carrier   \n4                           PEPSI BOTTLING GROUP INC.   \n...                                               ...   \n21574                                 JPN Masonry LLC   \n21575                                        CR MEYER   \n21576                               PHOENIX HOME CARE   \n21577                          Cross Insulation, Inc.   \n21578                          JV MANUFACTURING, INC.   \n\n                          Address1  Address2         City  \\\n0                         Address1  Address2         City   \n1                   Two Mile Drive       NaN    OTISVILLE   \n2               171 Progress Drive       NaN  LAKE DELTON   \n3              420 CORAOPOLIS ROAD       NaN   CORAOPOLIS   \n4                4541 HOUSTON AVE.       NaN        MACON   \n...                            ...       ...          ...   \n21574           806 Channing Place       NaN   WASHINGTON   \n21575           1815 Marathon Ave.       NaN       NEENAH   \n21576        353 River Bluff Drive       NaN      BRANSON   \n21577  West Fargo New Construction       NaN   WEST FARGO   \n21578   701 Butterfield Coach Road       NaN   SPRINGDALE   \n\n                      State    Zip  Latitude  ...  Nature  \\\n0                     State    Zip  Latitude  ...  Nature   \n1                  NEW YORK  10963     41.46  ...     111   \n2                 WISCONSIN  53940     43.59  ...    1522   \n3              PENNSYLVANIA  15108     40.49  ...      10   \n4                   GEORGIA  31206     32.77  ...    1972   \n...                     ...    ...       ...  ...     ...   \n21574  DISTRICT OF COLUMBIA  20008     38.92  ...    1834   \n21575             WISCONSIN  54956     44.16  ...     111   \n21576              MISSOURI  65616     36.61  ...     111   \n21577          NORTH DAKOTA  58078     46.87  ...    1961   \n21578              ARKANSAS  72765     36.17  ...     111   \n\n                                           NatureTitle  Part of Body  \\\n0                                          NatureTitle  Part of Body   \n1                                            Fractures           513   \n2                   Second degree heat (thermal) burns           519   \n3        Traumatic injuries and disorders, unspecified          9999   \n4             Soreness, pain, hurt-nonspecified injury           510   \n...                                                ...           ...   \n21574                       Fractures and dislocations          4420   \n21575                                        Fractures           899   \n21576                                        Fractures           513   \n21577  Poisoning, including poisoning-related asphyxia             6   \n21578                                        Fractures           510   \n\n                          Part of Body Title  Event  \\\n0                         Part of Body Title  Event   \n1                               Lower leg(s)   1214   \n2                             Leg(s), n.e.c.    317   \n3                            Nonclassifiable   4331   \n4                        Leg(s), unspecified    640   \n...                                      ...    ...   \n21574  Finger(s), fingernail(s), unspecified   4320   \n21575            Multiple body parts, n.e.c.   4332   \n21576                           Lower leg(s)   4331   \n21577                           BODY SYSTEMS   5521   \n21578                    Leg(s), unspecified   6239   \n\n                                              EventTitle  Source  \\\n0                                             EventTitle  Source   \n1      Injured by physical contact with person while ...    5721   \n2                  Ignition of vapors, gases, or liquids    7261   \n3             Other fall to lower level less than 6 feet    8421   \n4      Caught in or compressed by equipment or object...    8623   \n...                                                  ...     ...   \n21574  Fall through surface or existing opening, unsp...    6340   \n21575             Other fall to lower level 6 to 10 feet    6395   \n21576         Other fall to lower level less than 6 feet    6611   \n21577     Inhalation of harmful substance-single episode    1741   \n21578      Struck by falling object or equipment, n.e.c.    2131   \n\n                               SourceTitle  Secondary Source  \\\n0                              SourceTitle  Secondary Source   \n1                                Co-worker              5772   \n2       Welding, cutting, and blow torches               NaN   \n3      Semi, tractor-trailer, tanker truck               741   \n4                      Pallet jack-powered              8420   \n...                                    ...               ...   \n21574       Scaffolds-staging, unspecified               NaN   \n21575    Porches, balconies, decks, patios               NaN   \n21576                Stairs, steps-indoors               NaN   \n21577                      Carbon monoxide               NaN   \n21578                       Bundles, bales               NaN   \n\n                                  Secondary Source Title  \n0                                 Secondary Source Title  \n1                          Inmate or detainee in custody  \n2                                                    NaN  \n3                                          Ladders-fixed  \n4      Truck-motorized freight hauling and utility, u...  \n...                                                  ...  \n21574                                                NaN  \n21575                                                NaN  \n21576                                                NaN  \n21577                                                NaN  \n21578                                                NaN  \n\n[21579 rows x 26 columns]",
      "text/html": "<div>\n<style scoped>\n    .dataframe tbody tr th:only-of-type {\n        vertical-align: middle;\n    }\n\n    .dataframe tbody tr th {\n        vertical-align: top;\n    }\n\n    .dataframe thead th {\n        text-align: right;\n    }\n</style>\n<table border=\"1\" class=\"dataframe\">\n  <thead>\n    <tr style=\"text-align: right;\">\n      <th></th>\n      <th>UPA</th>\n      <th>ID</th>\n      <th>EventDate</th>\n      <th>Employer</th>\n      <th>Address1</th>\n      <th>Address2</th>\n      <th>City</th>\n      <th>State</th>\n      <th>Zip</th>\n      <th>Latitude</th>\n      <th>...</th>\n      <th>Nature</th>\n      <th>NatureTitle</th>\n      <th>Part of Body</th>\n      <th>Part of Body Title</th>\n      <th>Event</th>\n      <th>EventTitle</th>\n      <th>Source</th>\n      <th>SourceTitle</th>\n      <th>Secondary Source</th>\n      <th>Secondary Source Title</th>\n    </tr>\n  </thead>\n  <tbody>\n    <tr>\n      <th>0</th>\n      <td>ID</td>\n      <td>UPA</td>\n      <td>EventDate</td>\n      <td>Employer</td>\n      <td>Address1</td>\n      <td>Address2</td>\n      <td>City</td>\n      <td>State</td>\n      <td>Zip</td>\n      <td>Latitude</td>\n      <td>...</td>\n      <td>Nature</td>\n      <td>NatureTitle</td>\n      <td>Part of Body</td>\n      <td>Part of Body Title</td>\n      <td>Event</td>\n      <td>EventTitle</td>\n      <td>Source</td>\n      <td>SourceTitle</td>\n      <td>Secondary Source</td>\n      <td>Secondary Source Title</td>\n    </tr>\n    <tr>\n      <th>1</th>\n      <td>2015010015</td>\n      <td>931176</td>\n      <td>1/1/2015</td>\n      <td>FCI Otisville Federal Correctional Institution</td>\n      <td>Two Mile Drive</td>\n      <td>NaN</td>\n      <td>OTISVILLE</td>\n      <td>NEW YORK</td>\n      <td>10963</td>\n      <td>41.46</td>\n      <td>...</td>\n      <td>111</td>\n      <td>Fractures</td>\n      <td>513</td>\n      <td>Lower leg(s)</td>\n      <td>1214</td>\n      <td>Injured by physical contact with person while ...</td>\n      <td>5721</td>\n      <td>Co-worker</td>\n      <td>5772</td>\n      <td>Inmate or detainee in custody</td>\n    </tr>\n    <tr>\n      <th>2</th>\n      <td>2015010016</td>\n      <td>930267</td>\n      <td>1/1/2015</td>\n      <td>Kalahari Manufacturing LLC</td>\n      <td>171 Progress Drive</td>\n      <td>NaN</td>\n      <td>LAKE DELTON</td>\n      <td>WISCONSIN</td>\n      <td>53940</td>\n      <td>43.59</td>\n      <td>...</td>\n      <td>1522</td>\n      <td>Second degree heat (thermal) burns</td>\n      <td>519</td>\n      <td>Leg(s), n.e.c.</td>\n      <td>317</td>\n      <td>Ignition of vapors, gases, or liquids</td>\n      <td>7261</td>\n      <td>Welding, cutting, and blow torches</td>\n      <td>NaN</td>\n      <td>NaN</td>\n    </tr>\n    <tr>\n      <th>3</th>\n      <td>2015010018</td>\n      <td>929823</td>\n      <td>1/1/2015</td>\n      <td>Schneider National Bulk Carrier</td>\n      <td>420 CORAOPOLIS ROAD</td>\n      <td>NaN</td>\n      <td>CORAOPOLIS</td>\n      <td>PENNSYLVANIA</td>\n      <td>15108</td>\n      <td>40.49</td>\n      <td>...</td>\n      <td>10</td>\n      <td>Traumatic injuries and disorders, unspecified</td>\n      <td>9999</td>\n      <td>Nonclassifiable</td>\n      <td>4331</td>\n      <td>Other fall to lower level less than 6 feet</td>\n      <td>8421</td>\n      <td>Semi, tractor-trailer, tanker truck</td>\n      <td>741</td>\n      <td>Ladders-fixed</td>\n    </tr>\n    <tr>\n      <th>4</th>\n      <td>2015010019</td>\n      <td>929711</td>\n      <td>1/1/2015</td>\n      <td>PEPSI BOTTLING GROUP INC.</td>\n      <td>4541 HOUSTON AVE.</td>\n      <td>NaN</td>\n      <td>MACON</td>\n      <td>GEORGIA</td>\n      <td>31206</td>\n      <td>32.77</td>\n      <td>...</td>\n      <td>1972</td>\n      <td>Soreness, pain, hurt-nonspecified injury</td>\n      <td>510</td>\n      <td>Leg(s), unspecified</td>\n      <td>640</td>\n      <td>Caught in or compressed by equipment or object...</td>\n      <td>8623</td>\n      <td>Pallet jack-powered</td>\n      <td>8420</td>\n      <td>Truck-motorized freight hauling and utility, u...</td>\n    </tr>\n    <tr>\n      <th>...</th>\n      <td>...</td>\n      <td>...</td>\n      <td>...</td>\n      <td>...</td>\n      <td>...</td>\n      <td>...</td>\n      <td>...</td>\n      <td>...</td>\n      <td>...</td>\n      <td>...</td>\n      <td>...</td>\n      <td>...</td>\n      <td>...</td>\n      <td>...</td>\n      <td>...</td>\n      <td>...</td>\n      <td>...</td>\n      <td>...</td>\n      <td>...</td>\n      <td>...</td>\n      <td>...</td>\n    </tr>\n    <tr>\n      <th>21574</th>\n      <td>2017021908</td>\n      <td>1187496</td>\n      <td>2/28/2017</td>\n      <td>JPN Masonry LLC</td>\n      <td>806 Channing Place</td>\n      <td>NaN</td>\n      <td>WASHINGTON</td>\n      <td>DISTRICT OF COLUMBIA</td>\n      <td>20008</td>\n      <td>38.92</td>\n      <td>...</td>\n      <td>1834</td>\n      <td>Fractures and dislocations</td>\n      <td>4420</td>\n      <td>Finger(s), fingernail(s), unspecified</td>\n      <td>4320</td>\n      <td>Fall through surface or existing opening, unsp...</td>\n      <td>6340</td>\n      <td>Scaffolds-staging, unspecified</td>\n      <td>NaN</td>\n      <td>NaN</td>\n    </tr>\n    <tr>\n      <th>21575</th>\n      <td>2017021909</td>\n      <td>1187261</td>\n      <td>2/28/2017</td>\n      <td>CR MEYER</td>\n      <td>1815 Marathon Ave.</td>\n      <td>NaN</td>\n      <td>NEENAH</td>\n      <td>WISCONSIN</td>\n      <td>54956</td>\n      <td>44.16</td>\n      <td>...</td>\n      <td>111</td>\n      <td>Fractures</td>\n      <td>899</td>\n      <td>Multiple body parts, n.e.c.</td>\n      <td>4332</td>\n      <td>Other fall to lower level 6 to 10 feet</td>\n      <td>6395</td>\n      <td>Porches, balconies, decks, patios</td>\n      <td>NaN</td>\n      <td>NaN</td>\n    </tr>\n    <tr>\n      <th>21576</th>\n      <td>2017021910</td>\n      <td>1187351</td>\n      <td>2/28/2017</td>\n      <td>PHOENIX HOME CARE</td>\n      <td>353 River Bluff Drive</td>\n      <td>NaN</td>\n      <td>BRANSON</td>\n      <td>MISSOURI</td>\n      <td>65616</td>\n      <td>36.61</td>\n      <td>...</td>\n      <td>111</td>\n      <td>Fractures</td>\n      <td>513</td>\n      <td>Lower leg(s)</td>\n      <td>4331</td>\n      <td>Other fall to lower level less than 6 feet</td>\n      <td>6611</td>\n      <td>Stairs, steps-indoors</td>\n      <td>NaN</td>\n      <td>NaN</td>\n    </tr>\n    <tr>\n      <th>21577</th>\n      <td>2017021911</td>\n      <td>1187282</td>\n      <td>2/28/2017</td>\n      <td>Cross Insulation, Inc.</td>\n      <td>West Fargo New Construction</td>\n      <td>NaN</td>\n      <td>WEST FARGO</td>\n      <td>NORTH DAKOTA</td>\n      <td>58078</td>\n      <td>46.87</td>\n      <td>...</td>\n      <td>1961</td>\n      <td>Poisoning, including poisoning-related asphyxia</td>\n      <td>6</td>\n      <td>BODY SYSTEMS</td>\n      <td>5521</td>\n      <td>Inhalation of harmful substance-single episode</td>\n      <td>1741</td>\n      <td>Carbon monoxide</td>\n      <td>NaN</td>\n      <td>NaN</td>\n    </tr>\n    <tr>\n      <th>21578</th>\n      <td>2017021912</td>\n      <td>1187132</td>\n      <td>2/28/2017</td>\n      <td>JV MANUFACTURING, INC.</td>\n      <td>701 Butterfield Coach Road</td>\n      <td>NaN</td>\n      <td>SPRINGDALE</td>\n      <td>ARKANSAS</td>\n      <td>72765</td>\n      <td>36.17</td>\n      <td>...</td>\n      <td>111</td>\n      <td>Fractures</td>\n      <td>510</td>\n      <td>Leg(s), unspecified</td>\n      <td>6239</td>\n      <td>Struck by falling object or equipment, n.e.c.</td>\n      <td>2131</td>\n      <td>Bundles, bales</td>\n      <td>NaN</td>\n      <td>NaN</td>\n    </tr>\n  </tbody>\n</table>\n<p>21579 rows × 26 columns</p>\n</div>"
     },
     "metadata": {},
     "output_type": "execute_result",
     "execution_count": 29
    }
   ],
   "source": [
    "features = [\"UPA\",\"ID\",\"EventDate\",\"Employer\",\"Address1\",\"Address2\",\"City\",\"State\",\"Zip\",\"Latitude\",\"Longitude\",\"Primary NAICS\",\"Hospitalized\",\"Amputation\",\"Inspection\",\"Final Narrative\",\"Nature\",\"NatureTitle\",\"Part of Body\",\"Part of Body Title\",\"Event\",\"EventTitle\",\"Source\",\"SourceTitle\",\"Secondary Source\",\"Secondary Source Title\"]\n",
    "\n",
    "df = pd.read_csv(\"database/severeinjury.csv\", \n",
    "    names=features,\n",
    "    delimiter = ',',\n",
    "    engine='python')\n",
    "\n",
    "\n",
    "df.head(5)\n",
    "df"
   ],
   "metadata": {
    "collapsed": false,
    "pycharm": {
     "name": "#%%\n",
     "is_executing": false
    }
   }
  },
  {
   "cell_type": "code",
   "execution_count": null,
   "outputs": [],
   "source": [
    "dummies = pd.get_dummies(df)\n",
    "dummies.head(5)"
   ],
   "metadata": {
    "collapsed": false,
    "pycharm": {
     "name": "#%%\n",
     "is_executing": true
    }
   }
  },
  {
   "cell_type": "markdown",
   "metadata": {},
   "outputs": [],
   "source": [
    "### 2) **(5%)** Descrição básica do conjunto de dados escolhido pelo aluno (1 parágrafo).\n",
    "- Identificação da variável a serem trabalhadas\n",
    "- Classificação das variáveis como: contínua ou discreta.\n"
   ]
  },
  {
   "cell_type": "markdown",
   "metadata": {},
   "outputs": [],
   "source": [
    "*Descrição da base e suas variáveis*"
   ]
  },
  {
   "cell_type": "markdown",
   "metadata": {},
   "outputs": [],
   "source": [
    "### 2) **(15%)** Faça uma avaliação descritiva da sua base. Quantas linhas ela possui? Quais os tipos de dados? Quantas e quais features possuem?\n",
    "\n",
    "Cada variável escolhida pelo aluno precisa passar por ao menos 1 pré-processamento. O pré-processamento pode ser (mas não está limitado a):\n",
    "- Checagem se os valores estão dentro de um limite permitido ou razoável.\n",
    "- Tratamento de valores ausentes por eliminação ou substituição.\n",
    "- Conversão do tipo de dados.\n"
   ]
  },
  {
   "cell_type": "code",
   "execution_count": 14,
   "metadata": {},
   "outputs": [],
   "source": [
    "# Implemente sua análise aqui. Use mais blocos se achar que ficará mais organizado."
   ]
  },
  {
   "cell_type": "markdown",
   "metadata": {},
   "outputs": [],
   "source": [
    "### 4) **(60%)** Nos blocos seguintes construa análises que vão justificar suas conclusões."
   ]
  },
  {
   "cell_type": "markdown",
   "metadata": {},
   "outputs": [],
   "source": [
    "#### 4.1) **(20%)** Análise 1 -  Distribuição dos valores para cada uma das variáveis\n",
    "- Exemplo para variável contínua: se o conjunto de dados possui a variável \"idade\". Quantos % possui a idade entre 0 e 30 anos? 31 a 59? 60+?\n",
    "\n",
    "- Exemplo para variável discreta: se o conjunto de dados possui a variável \"gênero\", quantos % do conjunto de dados é do sexo feminino, quantos % é masculino? Inclua outros gêneros se houver.\n"
   ]
  },
  {
   "cell_type": "code",
   "execution_count": 8,
   "metadata": {},
   "outputs": [],
   "source": [
    "# Implemente sua análise aqui. Use mais blocos se achar que ficará mais organizado."
   ]
  },
  {
   "cell_type": "markdown",
   "metadata": {},
   "outputs": [],
   "source": [
    "#### 4.2) **(20%)** Análise 2 - Dependência entre variáveis\n",
    "O aluno deve apresentar as mesmas distribuições para cada valor da variável dependente. Exemplo: Em um conjunto de dados em que as variáveis independentes são idade e sexo, e a variável dependente é renda. O aluno pode dividir a renda em 3 \"grupos\", <1000 reais, entre 1000 e 10000 reais e >1000 reais. Para cada um desses grupos, é necessário apresentar a distribuição das variáveis \"idade\" e \"sexo\".\n"
   ]
  },
  {
   "cell_type": "code",
   "execution_count": 9,
   "metadata": {},
   "outputs": [],
   "source": [
    "# Implemente sua análise aqui. Use mais blocos se achar que ficará mais organizado."
   ]
  },
  {
   "cell_type": "markdown",
   "metadata": {},
   "outputs": [],
   "source": [
    "#### 4.3) **(20%)** Análise 3 - Correlação entre variáveis\n",
    "\n",
    "O aluno deve apresentar 3 análises de correlação entre variáveis do conjunto de dados trabalhado. Exemplo: Em um conjunto de dados com as informações de temperatura e ocorrência de incêndios, eu gostaria de saber a incidência de correlação entre as duas variáveis.\n",
    "\n"
   ]
  },
  {
   "cell_type": "code",
   "execution_count": 10,
   "metadata": {},
   "outputs": [],
   "source": [
    "# Primeiro par de variáveis: Implemente sua análise aqui. Use mais blocos se achar que ficará mais organizado."
   ]
  },
  {
   "cell_type": "code",
   "execution_count": 11,
   "metadata": {},
   "outputs": [],
   "source": [
    "# Segundo par de variáveis: Implemente sua análise aqui. Use mais blocos se achar que ficará mais organizado."
   ]
  },
  {
   "cell_type": "code",
   "execution_count": 12,
   "metadata": {},
   "outputs": [],
   "source": [
    "# Terceiro par de variáveis: Implemente sua análise aqui. Use mais blocos se achar que ficará mais organizado."
   ]
  },
  {
   "cell_type": "markdown",
   "metadata": {},
   "outputs": [],
   "source": [
    "### 5) Conclusões **15%**"
   ]
  },
  {
   "cell_type": "markdown",
   "metadata": {},
   "outputs": [],
   "source": [
    "*O que é possível concluir com os dados que você analisou? Se fosse fazer uma apresentação, o que levaria como os maiores destaques e por que?*"
   ]
  },
  {
   "cell_type": "markdown",
   "metadata": {},
   "outputs": [],
   "source": []
  }
 ],
 "metadata": {
  "file_extension": ".py",
  "kernelspec": {
   "display_name": "Python 3",
   "language": "python",
   "name": "python3"
  },
  "language_info": {
   "codemirror_mode": {
    "name": "ipython",
    "version": 3
   },
   "file_extension": ".py",
   "mimetype": "text/x-python",
   "name": "python",
   "nbconvert_exporter": "python",
   "pygments_lexer": "ipython3",
   "version": "3.7.4"
  },
  "mimetype": "text/x-python",
  "name": "python",
  "npconvert_exporter": "python",
  "pygments_lexer": "ipython3",
  "version": 3,
  "pycharm": {
   "stem_cell": {
    "cell_type": "raw",
    "source": [],
    "metadata": {
     "collapsed": false
    }
   }
  }
 },
 "nbformat": 4,
 "nbformat_minor": 2
}