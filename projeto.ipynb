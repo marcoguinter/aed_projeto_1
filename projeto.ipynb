{
 "cells": [
  {
   "cell_type": "markdown",
   "metadata": {},
   "outputs": [],
   "source": [
    "# Projeto #1 - Análise Exploratória de Dados\n",
    "\n",
    "Antes de começar, leia as [Instruções](https://github.com/thvmm/pos-ds-ia/tree/master/projeto_1#instru%C3%A7%C3%B5es) e os [Critérios de Avaliação](https://github.com/thvmm/pos-ds-ia/tree/master/projeto_1#crit%C3%A9rios-de-avalia%C3%A7%C3%A3o)\n"
   ]
  },
  {
   "cell_type": "markdown",
   "metadata": {},
   "outputs": [],
   "source": [
    "### 1) **(5%)** Qual a base escolhida e qual seu interesse nela?"
   ]
  },
  {
   "cell_type": "markdown",
   "metadata": {},
   "outputs": [],
   "source": [
    "*Indique o link da base no Kaggle e explique em um parágrafo curto por que essa base é interessante para você.*\n",
    "\n",
    "https://www.kaggle.com/jboysen/injured-workers\n",
    "\n",
    "Escolhi esta base de dados porque contém dados de acidentes do trabalho, área em que tenho familiaridade pois poussuo uma empresa de presetação de serviços (www.erplan.com.br) que tem como principal produto um software de gestão de Saúde, Segurança do Trabalho, Meio Ambiente e Qualidade.\n",
    "\n",
    "Apesar dos dados desta base refletirem uma realidade distante da brasileira, quero investigar justamente as características da base de dados, que conta com um volume razoável de informações brutas (26 colunas x 22.000 linhas), com acidentes graves de trabalho - amputação, fraturas, queimaduras etc.) entre 1/1/2015 e 28/2/2017 em 4.643 cidades dos Estados Unidos nos 54 estados dos Estados Unidos."
   ]
  },
  {
   "cell_type": "code",
   "execution_count": 31,
   "outputs": [],
   "source": [
    "# Bibliotecas\n",
    "import matplotlib.pyplot as plt # visualização de dados\n",
    "import numpy as np # linear algebra\n",
    "import pandas as pd # data processing\n",
    "\n"
   ],
   "metadata": {
    "collapsed": false,
    "pycharm": {
     "name": "#%%\n",
     "is_executing": false
    }
   }
  },
  {
   "cell_type": "code",
   "execution_count": 32,
   "outputs": [
    {
     "data": {
      "text/plain": "           ID     UPA EventDate  \\\n0  2015010015  931176  1/1/2015   \n1  2015010016  930267  1/1/2015   \n2  2015010018  929823  1/1/2015   \n3  2015010019  929711  1/1/2015   \n4  2015010020  929642  1/1/2015   \n\n                                         Employer               Address1  \\\n0  FCI Otisville Federal Correctional Institution         Two Mile Drive   \n1                      Kalahari Manufacturing LLC     171 Progress Drive   \n2                 Schneider National Bulk Carrier    420 CORAOPOLIS ROAD   \n3                       PEPSI BOTTLING GROUP INC.      4541 HOUSTON AVE.   \n4                 North American Pipe Corporation  210 South Arch Street   \n\n  Address2         City         State      Zip  Latitude  ...  Nature  \\\n0      NaN    OTISVILLE      NEW YORK  10963.0     41.46  ...     111   \n1      NaN  LAKE DELTON     WISCONSIN  53940.0     43.59  ...    1522   \n2      NaN   CORAOPOLIS  PENNSYLVANIA  15108.0     40.49  ...      10   \n3      NaN        MACON       GEORGIA  31206.0     32.77  ...    1972   \n4      NaN   JANESVILLE     WISCONSIN  53545.0     42.67  ...     111   \n\n                                     NatureTitle  Part of Body  \\\n0                                      Fractures           513   \n1             Second degree heat (thermal) burns           519   \n2  Traumatic injuries and disorders, unspecified          9999   \n3       Soreness, pain, hurt-nonspecified injury           510   \n4                                      Fractures          4429   \n\n                 Part of Body Title  Event  \\\n0                      Lower leg(s)   1214   \n1                    Leg(s), n.e.c.    317   \n2                   Nonclassifiable   4331   \n3               Leg(s), unspecified    640   \n4  Finger(s), fingernail(s), n.e.c.   6411   \n\n                                          EventTitle  Source  \\\n0  Injured by physical contact with person while ...    5721   \n1              Ignition of vapors, gases, or liquids    7261   \n2         Other fall to lower level less than 6 feet    8421   \n3  Caught in or compressed by equipment or object...    8623   \n4  Caught in running equipment or machinery durin...     350   \n\n                                         SourceTitle  Secondary Source  \\\n0                                          Co-worker            5772.0   \n1                 Welding, cutting, and blow torches               NaN   \n2                Semi, tractor-trailer, tanker truck             741.0   \n3                                Pallet jack-powered            8420.0   \n4  Metal, woodworking, and special material machi...               NaN   \n\n                              Secondary Source Title  \n0                      Inmate or detainee in custody  \n1                                                NaN  \n2                                      Ladders-fixed  \n3  Truck-motorized freight hauling and utility, u...  \n4                                                NaN  \n\n[5 rows x 26 columns]",
      "text/html": "<div>\n<style scoped>\n    .dataframe tbody tr th:only-of-type {\n        vertical-align: middle;\n    }\n\n    .dataframe tbody tr th {\n        vertical-align: top;\n    }\n\n    .dataframe thead th {\n        text-align: right;\n    }\n</style>\n<table border=\"1\" class=\"dataframe\">\n  <thead>\n    <tr style=\"text-align: right;\">\n      <th></th>\n      <th>ID</th>\n      <th>UPA</th>\n      <th>EventDate</th>\n      <th>Employer</th>\n      <th>Address1</th>\n      <th>Address2</th>\n      <th>City</th>\n      <th>State</th>\n      <th>Zip</th>\n      <th>Latitude</th>\n      <th>...</th>\n      <th>Nature</th>\n      <th>NatureTitle</th>\n      <th>Part of Body</th>\n      <th>Part of Body Title</th>\n      <th>Event</th>\n      <th>EventTitle</th>\n      <th>Source</th>\n      <th>SourceTitle</th>\n      <th>Secondary Source</th>\n      <th>Secondary Source Title</th>\n    </tr>\n  </thead>\n  <tbody>\n    <tr>\n      <th>0</th>\n      <td>2015010015</td>\n      <td>931176</td>\n      <td>1/1/2015</td>\n      <td>FCI Otisville Federal Correctional Institution</td>\n      <td>Two Mile Drive</td>\n      <td>NaN</td>\n      <td>OTISVILLE</td>\n      <td>NEW YORK</td>\n      <td>10963.0</td>\n      <td>41.46</td>\n      <td>...</td>\n      <td>111</td>\n      <td>Fractures</td>\n      <td>513</td>\n      <td>Lower leg(s)</td>\n      <td>1214</td>\n      <td>Injured by physical contact with person while ...</td>\n      <td>5721</td>\n      <td>Co-worker</td>\n      <td>5772.0</td>\n      <td>Inmate or detainee in custody</td>\n    </tr>\n    <tr>\n      <th>1</th>\n      <td>2015010016</td>\n      <td>930267</td>\n      <td>1/1/2015</td>\n      <td>Kalahari Manufacturing LLC</td>\n      <td>171 Progress Drive</td>\n      <td>NaN</td>\n      <td>LAKE DELTON</td>\n      <td>WISCONSIN</td>\n      <td>53940.0</td>\n      <td>43.59</td>\n      <td>...</td>\n      <td>1522</td>\n      <td>Second degree heat (thermal) burns</td>\n      <td>519</td>\n      <td>Leg(s), n.e.c.</td>\n      <td>317</td>\n      <td>Ignition of vapors, gases, or liquids</td>\n      <td>7261</td>\n      <td>Welding, cutting, and blow torches</td>\n      <td>NaN</td>\n      <td>NaN</td>\n    </tr>\n    <tr>\n      <th>2</th>\n      <td>2015010018</td>\n      <td>929823</td>\n      <td>1/1/2015</td>\n      <td>Schneider National Bulk Carrier</td>\n      <td>420 CORAOPOLIS ROAD</td>\n      <td>NaN</td>\n      <td>CORAOPOLIS</td>\n      <td>PENNSYLVANIA</td>\n      <td>15108.0</td>\n      <td>40.49</td>\n      <td>...</td>\n      <td>10</td>\n      <td>Traumatic injuries and disorders, unspecified</td>\n      <td>9999</td>\n      <td>Nonclassifiable</td>\n      <td>4331</td>\n      <td>Other fall to lower level less than 6 feet</td>\n      <td>8421</td>\n      <td>Semi, tractor-trailer, tanker truck</td>\n      <td>741.0</td>\n      <td>Ladders-fixed</td>\n    </tr>\n    <tr>\n      <th>3</th>\n      <td>2015010019</td>\n      <td>929711</td>\n      <td>1/1/2015</td>\n      <td>PEPSI BOTTLING GROUP INC.</td>\n      <td>4541 HOUSTON AVE.</td>\n      <td>NaN</td>\n      <td>MACON</td>\n      <td>GEORGIA</td>\n      <td>31206.0</td>\n      <td>32.77</td>\n      <td>...</td>\n      <td>1972</td>\n      <td>Soreness, pain, hurt-nonspecified injury</td>\n      <td>510</td>\n      <td>Leg(s), unspecified</td>\n      <td>640</td>\n      <td>Caught in or compressed by equipment or object...</td>\n      <td>8623</td>\n      <td>Pallet jack-powered</td>\n      <td>8420.0</td>\n      <td>Truck-motorized freight hauling and utility, u...</td>\n    </tr>\n    <tr>\n      <th>4</th>\n      <td>2015010020</td>\n      <td>929642</td>\n      <td>1/1/2015</td>\n      <td>North American Pipe Corporation</td>\n      <td>210 South Arch Street</td>\n      <td>NaN</td>\n      <td>JANESVILLE</td>\n      <td>WISCONSIN</td>\n      <td>53545.0</td>\n      <td>42.67</td>\n      <td>...</td>\n      <td>111</td>\n      <td>Fractures</td>\n      <td>4429</td>\n      <td>Finger(s), fingernail(s), n.e.c.</td>\n      <td>6411</td>\n      <td>Caught in running equipment or machinery durin...</td>\n      <td>350</td>\n      <td>Metal, woodworking, and special material machi...</td>\n      <td>NaN</td>\n      <td>NaN</td>\n    </tr>\n  </tbody>\n</table>\n<p>5 rows × 26 columns</p>\n</div>"
     },
     "metadata": {},
     "output_type": "execute_result",
     "execution_count": 32
    }
   ],
   "source": [
    "df = pd.read_csv(\"database/severeinjury.csv\", \n",
    "     engine='python')\n",
    "\n",
    "\n",
    "df.head(5)"
   ],
   "metadata": {
    "collapsed": false,
    "pycharm": {
     "name": "#%%\n",
     "is_executing": false
    }
   }
  },
  {
   "cell_type": "markdown",
   "metadata": {},
   "outputs": [],
   "source": [
    "### 2) **(5%)** Descrição básica do conjunto de dados escolhido pelo aluno (1 parágrafo).\n",
    "- Identificação da variável a serem trabalhadas\n",
    "- Classificação das variáveis como: contínua ou discreta.\n"
   ]
  },
  {
   "cell_type": "code",
   "execution_count": 33,
   "outputs": [
    {
     "data": {
      "text/plain": "Index(['ID', 'UPA', 'EventDate', 'Employer', 'Address1', 'Address2', 'City',\n       'State', 'Zip', 'Latitude', 'Longitude', 'Primary NAICS',\n       'Hospitalized', 'Amputation', 'Inspection', 'Final Narrative', 'Nature',\n       'NatureTitle', 'Part of Body', 'Part of Body Title', 'Event',\n       'EventTitle', 'Source', 'SourceTitle', 'Secondary Source',\n       'Secondary Source Title'],\n      dtype='object')"
     },
     "metadata": {},
     "output_type": "execute_result",
     "execution_count": 33
    }
   ],
   "source": [
    "df.columns"
   ],
   "metadata": {
    "collapsed": false,
    "pycharm": {
     "name": "#%%\n",
     "is_executing": false
    }
   }
  },
  {
   "cell_type": "markdown",
   "metadata": {},
   "outputs": [],
   "source": [
    "*Descrição da base e suas variáveis*\n",
    "\n",
    "É um banco com dados de acidentes graves de trabalho, com detalhamento da gravidade do acidente, parte do corpo atingida, natureza da lesão e também informações demográficas, especialmente cidade e estado, permitindo comparações das features de gravidade dos acidentes em relação aos estados e cidades.\n",
    "\n"
   ]
  },
  {
   "cell_type": "markdown",
   "metadata": {},
   "outputs": [],
   "source": [
    "### 3) **(15%)** Faça uma avaliação descritiva da sua base. Quantas linhas ela possui? Quais os tipos de dados? Quantas e quais features possuem?\n",
    "\n",
    "Cada variável escolhida pelo aluno precisa passar por ao menos 1 pré-processamento. O pré-processamento pode ser (mas não está limitado a):\n",
    "- Checagem se os valores estão dentro de um limite permitido ou razoável.\n",
    "- Tratamento de valores ausentes por eliminação ou substituição.\n",
    "- Conversão do tipo de dados.\n",
    "\n",
    "\n"
   ]
  },
  {
   "cell_type": "code",
   "execution_count": 34,
   "outputs": [
    {
     "data": {
      "text/plain": "(21578, 26)"
     },
     "metadata": {},
     "output_type": "execute_result",
     "execution_count": 34
    }
   ],
   "source": [
    "df.shape"
   ],
   "metadata": {
    "collapsed": false,
    "pycharm": {
     "name": "#%%\n",
     "is_executing": false
    }
   }
  },
  {
   "cell_type": "markdown",
   "metadata": {
    "pycharm": {
     "name": "#%% md\n"
    }
   },
   "source": [
    "A base contém 21.578 linhas e 26 colunas\n",
    "\n",
    "Colunas: \n",
    "- (-) ID: Identificador chave PK da linha, irrelevante para estatística\n",
    "- (-) UPA: Valor numérico não identificado\n",
    "- (+) EventDate: Data do incidente/acidente\n",
    "- (-) Employer: Nome do empregado\n",
    "- (-) Address1: Endereço do empregado\n",
    "- (-) Address2: Continuação do endereço\n",
    "- (+) City: Cidade\n",
    "- (+) State: Estado\n",
    "- (-) Zip: CEP\n",
    "- (+) Latitude\n",
    "- (+) Longitude\n",
    "- (-)Primay NAICS (Numérico não identificado)\n",
    "- (+) Hospitalized (Binário)\n",
    "- (+) Amputation (Binário)\n",
    "- (-) Inspection (Numérico) - Código\n",
    "- (-) Final Narrative (Descrição)\n",
    "- (+) Nature (Código da Natureza)\n",
    "- (+) Nature Title\n",
    "- (+) Part of Body (Código da parte do corpo)\n",
    "- (+) Part of Body Title\n",
    "- (+) Event (Código do evento)\n",
    "- (+) Event Title\n",
    "- (+) Source (Código da Fonte)\n",
    "- (+) Source title\n",
    "- (+) Secondary Source (Código da fonte secundária)\n",
    "- (+) Secondary Source Title\n",
    "\n",
    "Das 26 colunas, 17 serão utilizadas (+), sendo as últimas 10 são informações repetidas (código/descrição).\n",
    "As colunas marcadas com (-) não serão utilizadas na análise.\n",
    "Há necessidades de colunas adicionais auxiliares como quebrar EventDate em Dia, mês e ano e dia da semana."
   ]
  },
  {
   "cell_type": "code",
   "execution_count": 35,
   "outputs": [],
   "source": [
    "# Dropando as colunas desnecessárias\n",
    "df=df.drop(['ID', 'UPA', 'Employer', 'Address1', 'Address2', 'Zip','Primary NAICS','Inspection', 'Final Narrative'],axis = 1)"
   ],
   "metadata": {
    "collapsed": false,
    "pycharm": {
     "name": "#%%\n",
     "is_executing": false
    }
   }
  },
  {
   "cell_type": "code",
   "execution_count": 42,
   "outputs": [
    {
     "data": {
      "text/plain": "Index(['EventDate', 'City', 'State', 'Latitude', 'Longitude', 'Hospitalized',\n       'Amputation', 'Nature', 'NatureTitle', 'Part of Body',\n       'Part of Body Title', 'Event', 'EventTitle', 'Source', 'SourceTitle',\n       'Secondary Source', 'Secondary Source Title'],\n      dtype='object')"
     },
     "metadata": {},
     "output_type": "execute_result",
     "execution_count": 42
    }
   ],
   "source": [
    "# Mostrando as colunas resultantes\n",
    "df.columns"
   ],
   "metadata": {
    "collapsed": false,
    "pycharm": {
     "name": "#%%\n",
     "is_executing": false
    }
   }
  },
  {
   "cell_type": "code",
   "execution_count": 43,
   "outputs": [
    {
     "data": {
      "text/plain": "EventDate                  object\nCity                       object\nState                      object\nLatitude                  float64\nLongitude                 float64\nHospitalized              float64\nAmputation                float64\nNature                      int64\nNatureTitle                object\nPart of Body                int64\nPart of Body Title         object\nEvent                       int64\nEventTitle                 object\nSource                      int64\nSourceTitle                object\nSecondary Source          float64\nSecondary Source Title     object\ndtype: object"
     },
     "metadata": {},
     "output_type": "execute_result",
     "execution_count": 43
    }
   ],
   "source": [
    "# Mostrando os tipos existentes\n",
    "df.dtypes"
   ],
   "metadata": {
    "collapsed": false,
    "pycharm": {
     "name": "#%%\n",
     "is_executing": false
    }
   }
  },
  {
   "cell_type": "code",
   "execution_count": 44,
   "outputs": [
    {
     "data": {
      "text/plain": "           Latitude     Longitude  Hospitalized    Amputation        Nature  \\\ncount  21487.000000  21487.000000  21578.000000  21576.000000  21578.000000   \nmean      36.722735    -87.691200      0.807999      0.269837    886.975206   \nstd        5.500293     11.132113      0.412055      0.451033    779.275403   \nmin      -15.780000   -170.710000      0.000000      0.000000      7.000000   \n25%       32.200000    -95.400000      1.000000      0.000000    111.000000   \n50%       38.770000    -87.660000      1.000000      0.000000   1311.000000   \n75%       41.090000    -80.625000      1.000000      1.000000   1312.000000   \nmax       61.290000    145.750000      3.000000      9.000000   9999.000000   \n\n       Part of Body         Event        Source  Secondary Source  \ncount  21578.000000  21578.000000  21578.000000       5812.000000  \nmean    2282.536055   3905.397071   4811.297618       5210.936855  \nstd     2796.269288   2523.757451   2882.715191       3227.633387  \nmin        6.000000     20.000000     10.000000         10.000000  \n25%      320.000000    642.000000   3230.000000       2214.000000  \n50%      513.000000   4331.000000   4153.500000       4418.000000  \n75%     4422.000000   6252.000000   7124.000000       8621.000000  \nmax     9999.000000   9999.000000   9999.000000       9999.000000  ",
      "text/html": "<div>\n<style scoped>\n    .dataframe tbody tr th:only-of-type {\n        vertical-align: middle;\n    }\n\n    .dataframe tbody tr th {\n        vertical-align: top;\n    }\n\n    .dataframe thead th {\n        text-align: right;\n    }\n</style>\n<table border=\"1\" class=\"dataframe\">\n  <thead>\n    <tr style=\"text-align: right;\">\n      <th></th>\n      <th>Latitude</th>\n      <th>Longitude</th>\n      <th>Hospitalized</th>\n      <th>Amputation</th>\n      <th>Nature</th>\n      <th>Part of Body</th>\n      <th>Event</th>\n      <th>Source</th>\n      <th>Secondary Source</th>\n    </tr>\n  </thead>\n  <tbody>\n    <tr>\n      <th>count</th>\n      <td>21487.000000</td>\n      <td>21487.000000</td>\n      <td>21578.000000</td>\n      <td>21576.000000</td>\n      <td>21578.000000</td>\n      <td>21578.000000</td>\n      <td>21578.000000</td>\n      <td>21578.000000</td>\n      <td>5812.000000</td>\n    </tr>\n    <tr>\n      <th>mean</th>\n      <td>36.722735</td>\n      <td>-87.691200</td>\n      <td>0.807999</td>\n      <td>0.269837</td>\n      <td>886.975206</td>\n      <td>2282.536055</td>\n      <td>3905.397071</td>\n      <td>4811.297618</td>\n      <td>5210.936855</td>\n    </tr>\n    <tr>\n      <th>std</th>\n      <td>5.500293</td>\n      <td>11.132113</td>\n      <td>0.412055</td>\n      <td>0.451033</td>\n      <td>779.275403</td>\n      <td>2796.269288</td>\n      <td>2523.757451</td>\n      <td>2882.715191</td>\n      <td>3227.633387</td>\n    </tr>\n    <tr>\n      <th>min</th>\n      <td>-15.780000</td>\n      <td>-170.710000</td>\n      <td>0.000000</td>\n      <td>0.000000</td>\n      <td>7.000000</td>\n      <td>6.000000</td>\n      <td>20.000000</td>\n      <td>10.000000</td>\n      <td>10.000000</td>\n    </tr>\n    <tr>\n      <th>25%</th>\n      <td>32.200000</td>\n      <td>-95.400000</td>\n      <td>1.000000</td>\n      <td>0.000000</td>\n      <td>111.000000</td>\n      <td>320.000000</td>\n      <td>642.000000</td>\n      <td>3230.000000</td>\n      <td>2214.000000</td>\n    </tr>\n    <tr>\n      <th>50%</th>\n      <td>38.770000</td>\n      <td>-87.660000</td>\n      <td>1.000000</td>\n      <td>0.000000</td>\n      <td>1311.000000</td>\n      <td>513.000000</td>\n      <td>4331.000000</td>\n      <td>4153.500000</td>\n      <td>4418.000000</td>\n    </tr>\n    <tr>\n      <th>75%</th>\n      <td>41.090000</td>\n      <td>-80.625000</td>\n      <td>1.000000</td>\n      <td>1.000000</td>\n      <td>1312.000000</td>\n      <td>4422.000000</td>\n      <td>6252.000000</td>\n      <td>7124.000000</td>\n      <td>8621.000000</td>\n    </tr>\n    <tr>\n      <th>max</th>\n      <td>61.290000</td>\n      <td>145.750000</td>\n      <td>3.000000</td>\n      <td>9.000000</td>\n      <td>9999.000000</td>\n      <td>9999.000000</td>\n      <td>9999.000000</td>\n      <td>9999.000000</td>\n      <td>9999.000000</td>\n    </tr>\n  </tbody>\n</table>\n</div>"
     },
     "metadata": {},
     "output_type": "execute_result",
     "execution_count": 44
    }
   ],
   "source": [
    "# Informações importantes sobre o dataframe para Insights\n",
    "df.describe()\n",
    "\n"
   ],
   "metadata": {
    "collapsed": false,
    "pycharm": {
     "name": "#%%\n",
     "is_executing": false
    }
   }
  },
  {
   "cell_type": "markdown",
   "metadata": {},
   "outputs": [],
   "source": [
    "### 4) **(60%)** Nos blocos seguintes construa análises que vão justificar suas conclusões."
   ]
  },
  {
   "cell_type": "markdown",
   "metadata": {},
   "outputs": [],
   "source": [
    "#### 4.1) **(20%)** Análise 1 -  Distribuição dos valores para cada uma das variáveis\n",
    "- Exemplo para variável contínua: se o conjunto de dados possui a variável \"idade\". Quantos % possui a idade entre 0 e 30 anos? 31 a 59? 60+?\n",
    "\n",
    "- Exemplo para variável discreta: se o conjunto de dados possui a variável \"gênero\", quantos % do conjunto de dados é do sexo feminino, quantos % é masculino? Inclua outros gêneros se houver.\n"
   ]
  },
  {
   "cell_type": "code",
   "execution_count": 37,
   "metadata": {
    "pycharm": {
     "is_executing": false
    }
   },
   "outputs": [],
   "source": [
    "# Implemente sua análise aqui. Use mais blocos se achar que ficará mais organizado."
   ]
  },
  {
   "cell_type": "markdown",
   "metadata": {},
   "outputs": [],
   "source": [
    "#### 4.2) **(20%)** Análise 2 - Dependência entre variáveis\n",
    "O aluno deve apresentar as mesmas distribuições para cada valor da variável dependente. Exemplo: Em um conjunto de dados em que as variáveis independentes são idade e sexo, e a variável dependente é renda. O aluno pode dividir a renda em 3 \"grupos\", <1000 reais, entre 1000 e 10000 reais e >1000 reais. Para cada um desses grupos, é necessário apresentar a distribuição das variáveis \"idade\" e \"sexo\".\n"
   ]
  },
  {
   "cell_type": "code",
   "execution_count": 38,
   "metadata": {
    "pycharm": {
     "is_executing": false
    }
   },
   "outputs": [],
   "source": [
    "# Implemente sua análise aqui. Use mais blocos se achar que ficará mais organizado."
   ]
  },
  {
   "cell_type": "markdown",
   "metadata": {},
   "outputs": [],
   "source": [
    "#### 4.3) **(20%)** Análise 3 - Correlação entre variáveis\n",
    "\n",
    "O aluno deve apresentar 3 análises de correlação entre variáveis do conjunto de dados trabalhado. Exemplo: Em um conjunto de dados com as informações de temperatura e ocorrência de incêndios, eu gostaria de saber a incidência de correlação entre as duas variáveis.\n",
    "\n"
   ]
  },
  {
   "cell_type": "code",
   "execution_count": 39,
   "metadata": {
    "pycharm": {
     "is_executing": false
    }
   },
   "outputs": [],
   "source": [
    "# Primeiro par de variáveis: Implemente sua análise aqui. Use mais blocos se achar que ficará mais organizado."
   ]
  },
  {
   "cell_type": "code",
   "execution_count": 40,
   "metadata": {
    "pycharm": {
     "is_executing": false
    }
   },
   "outputs": [],
   "source": [
    "# Segundo par de variáveis: Implemente sua análise aqui. Use mais blocos se achar que ficará mais organizado."
   ]
  },
  {
   "cell_type": "code",
   "execution_count": 41,
   "metadata": {
    "pycharm": {
     "is_executing": false
    }
   },
   "outputs": [],
   "source": [
    "# Terceiro par de variáveis: Implemente sua análise aqui. Use mais blocos se achar que ficará mais organizado."
   ]
  },
  {
   "cell_type": "markdown",
   "metadata": {},
   "outputs": [],
   "source": [
    "### 5) Conclusões **15%**"
   ]
  },
  {
   "cell_type": "markdown",
   "metadata": {},
   "outputs": [],
   "source": [
    "*O que é possível concluir com os dados que você analisou? Se fosse fazer uma apresentação, o que levaria como os maiores destaques e por que?*"
   ]
  },
  {
   "cell_type": "markdown",
   "metadata": {},
   "outputs": [],
   "source": []
  }
 ],
 "metadata": {
  "file_extension": ".py",
  "kernelspec": {
   "display_name": "Python 3",
   "language": "python",
   "name": "python3"
  },
  "language_info": {
   "codemirror_mode": {
    "name": "ipython",
    "version": 3
   },
   "file_extension": ".py",
   "mimetype": "text/x-python",
   "name": "python",
   "nbconvert_exporter": "python",
   "pygments_lexer": "ipython3",
   "version": "3.7.4"
  },
  "mimetype": "text/x-python",
  "name": "python",
  "npconvert_exporter": "python",
  "pygments_lexer": "ipython3",
  "version": 3,
  "pycharm": {
   "stem_cell": {
    "cell_type": "raw",
    "source": [],
    "metadata": {
     "collapsed": false
    }
   }
  }
 },
 "nbformat": 4,
 "nbformat_minor": 2
}