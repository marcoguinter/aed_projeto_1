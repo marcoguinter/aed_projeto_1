{
 "cells": [
  {
   "cell_type": "markdown",
   "metadata": {},
   "outputs": [],
   "source": [
    "# Projeto #1 - Análise Exploratória de Dados\n",
    "\n",
    "Antes de começar, leia as [Instruções](https://github.com/thvmm/pos-ds-ia/tree/master/projeto_1#instru%C3%A7%C3%B5es) e os [Critérios de Avaliação](https://github.com/thvmm/pos-ds-ia/tree/master/projeto_1#crit%C3%A9rios-de-avalia%C3%A7%C3%A3o)\n"
   ]
  },
  {
   "cell_type": "markdown",
   "metadata": {},
   "outputs": [],
   "source": [
    "### 1) **(5%)** Qual a base escolhida e qual seu interesse nela?"
   ]
  },
  {
   "cell_type": "markdown",
   "metadata": {},
   "outputs": [],
   "source": [
    "*Indique o link da base no Kaggle e explique em um parágrafo curto por que essa base é interessante para você.*\n",
    "\n",
    "https://www.kaggle.com/jboysen/injured-workers\n",
    "\n",
    "Escolhi esta base de dados porque contém dados de acidentes do trabalho, área em que tenho familiaridade pois poussuo uma empresa de presetação de serviços (www.erplan.com.br) que tem como principal produto um software de gestão de Saúde, Segurança do Trabalho, Meio Ambiente e Qualidade.\n",
    "\n",
    "Apesar dos dados desta base refletirem uma realidade distante da brasileira, quero investigar justamente as características da base de dados, que conta com um volume razoável de informações brutas (26 colunas x 22.000 linhas), com acidentes graves de trabalho - amputação, fraturas, queimaduras etc.) entre 1/1/2015 e 28/2/2017 em 4.643 cidades dos Estados Unidos nos 54 estados dos Estados Unidos."
   ]
  },
  {
   "cell_type": "code",
   "execution_count": 35,
   "outputs": [],
   "source": [
    "# Bibliotecas\n",
    "import matplotlib.pyplot as plt # visualização de dados\n",
    "import numpy as np # linear algebra\n",
    "import pandas as pd # data processing\n",
    "from geopy.geocoders import Nominatim as geo # geoprocessamento\n",
    "import geopandas # Plotagem no mapa\n",
    "\n",
    "\n"
   ],
   "metadata": {
    "collapsed": false,
    "pycharm": {
     "name": "#%%\n",
     "is_executing": false
    }
   }
  },
  {
   "cell_type": "code",
   "execution_count": 36,
   "outputs": [
    {
     "data": {
      "text/plain": "           ID     UPA EventDate  \\\n0  2015010015  931176  1/1/2015   \n1  2015010016  930267  1/1/2015   \n2  2015010018  929823  1/1/2015   \n3  2015010019  929711  1/1/2015   \n4  2015010020  929642  1/1/2015   \n\n                                         Employer               Address1  \\\n0  FCI Otisville Federal Correctional Institution         Two Mile Drive   \n1                      Kalahari Manufacturing LLC     171 Progress Drive   \n2                 Schneider National Bulk Carrier    420 CORAOPOLIS ROAD   \n3                       PEPSI BOTTLING GROUP INC.      4541 HOUSTON AVE.   \n4                 North American Pipe Corporation  210 South Arch Street   \n\n  Address2         City         State      Zip  Latitude  ...  Nature  \\\n0      NaN    OTISVILLE      NEW YORK  10963.0     41.46  ...     111   \n1      NaN  LAKE DELTON     WISCONSIN  53940.0     43.59  ...    1522   \n2      NaN   CORAOPOLIS  PENNSYLVANIA  15108.0     40.49  ...      10   \n3      NaN        MACON       GEORGIA  31206.0     32.77  ...    1972   \n4      NaN   JANESVILLE     WISCONSIN  53545.0     42.67  ...     111   \n\n                                     NatureTitle  Part of Body  \\\n0                                      Fractures           513   \n1             Second degree heat (thermal) burns           519   \n2  Traumatic injuries and disorders, unspecified          9999   \n3       Soreness, pain, hurt-nonspecified injury           510   \n4                                      Fractures          4429   \n\n                 Part of Body Title  Event  \\\n0                      Lower leg(s)   1214   \n1                    Leg(s), n.e.c.    317   \n2                   Nonclassifiable   4331   \n3               Leg(s), unspecified    640   \n4  Finger(s), fingernail(s), n.e.c.   6411   \n\n                                          EventTitle  Source  \\\n0  Injured by physical contact with person while ...    5721   \n1              Ignition of vapors, gases, or liquids    7261   \n2         Other fall to lower level less than 6 feet    8421   \n3  Caught in or compressed by equipment or object...    8623   \n4  Caught in running equipment or machinery durin...     350   \n\n                                         SourceTitle  Secondary Source  \\\n0                                          Co-worker            5772.0   \n1                 Welding, cutting, and blow torches               NaN   \n2                Semi, tractor-trailer, tanker truck             741.0   \n3                                Pallet jack-powered            8420.0   \n4  Metal, woodworking, and special material machi...               NaN   \n\n                              Secondary Source Title  \n0                      Inmate or detainee in custody  \n1                                                NaN  \n2                                      Ladders-fixed  \n3  Truck-motorized freight hauling and utility, u...  \n4                                                NaN  \n\n[5 rows x 26 columns]",
      "text/html": "<div>\n<style scoped>\n    .dataframe tbody tr th:only-of-type {\n        vertical-align: middle;\n    }\n\n    .dataframe tbody tr th {\n        vertical-align: top;\n    }\n\n    .dataframe thead th {\n        text-align: right;\n    }\n</style>\n<table border=\"1\" class=\"dataframe\">\n  <thead>\n    <tr style=\"text-align: right;\">\n      <th></th>\n      <th>ID</th>\n      <th>UPA</th>\n      <th>EventDate</th>\n      <th>Employer</th>\n      <th>Address1</th>\n      <th>Address2</th>\n      <th>City</th>\n      <th>State</th>\n      <th>Zip</th>\n      <th>Latitude</th>\n      <th>...</th>\n      <th>Nature</th>\n      <th>NatureTitle</th>\n      <th>Part of Body</th>\n      <th>Part of Body Title</th>\n      <th>Event</th>\n      <th>EventTitle</th>\n      <th>Source</th>\n      <th>SourceTitle</th>\n      <th>Secondary Source</th>\n      <th>Secondary Source Title</th>\n    </tr>\n  </thead>\n  <tbody>\n    <tr>\n      <th>0</th>\n      <td>2015010015</td>\n      <td>931176</td>\n      <td>1/1/2015</td>\n      <td>FCI Otisville Federal Correctional Institution</td>\n      <td>Two Mile Drive</td>\n      <td>NaN</td>\n      <td>OTISVILLE</td>\n      <td>NEW YORK</td>\n      <td>10963.0</td>\n      <td>41.46</td>\n      <td>...</td>\n      <td>111</td>\n      <td>Fractures</td>\n      <td>513</td>\n      <td>Lower leg(s)</td>\n      <td>1214</td>\n      <td>Injured by physical contact with person while ...</td>\n      <td>5721</td>\n      <td>Co-worker</td>\n      <td>5772.0</td>\n      <td>Inmate or detainee in custody</td>\n    </tr>\n    <tr>\n      <th>1</th>\n      <td>2015010016</td>\n      <td>930267</td>\n      <td>1/1/2015</td>\n      <td>Kalahari Manufacturing LLC</td>\n      <td>171 Progress Drive</td>\n      <td>NaN</td>\n      <td>LAKE DELTON</td>\n      <td>WISCONSIN</td>\n      <td>53940.0</td>\n      <td>43.59</td>\n      <td>...</td>\n      <td>1522</td>\n      <td>Second degree heat (thermal) burns</td>\n      <td>519</td>\n      <td>Leg(s), n.e.c.</td>\n      <td>317</td>\n      <td>Ignition of vapors, gases, or liquids</td>\n      <td>7261</td>\n      <td>Welding, cutting, and blow torches</td>\n      <td>NaN</td>\n      <td>NaN</td>\n    </tr>\n    <tr>\n      <th>2</th>\n      <td>2015010018</td>\n      <td>929823</td>\n      <td>1/1/2015</td>\n      <td>Schneider National Bulk Carrier</td>\n      <td>420 CORAOPOLIS ROAD</td>\n      <td>NaN</td>\n      <td>CORAOPOLIS</td>\n      <td>PENNSYLVANIA</td>\n      <td>15108.0</td>\n      <td>40.49</td>\n      <td>...</td>\n      <td>10</td>\n      <td>Traumatic injuries and disorders, unspecified</td>\n      <td>9999</td>\n      <td>Nonclassifiable</td>\n      <td>4331</td>\n      <td>Other fall to lower level less than 6 feet</td>\n      <td>8421</td>\n      <td>Semi, tractor-trailer, tanker truck</td>\n      <td>741.0</td>\n      <td>Ladders-fixed</td>\n    </tr>\n    <tr>\n      <th>3</th>\n      <td>2015010019</td>\n      <td>929711</td>\n      <td>1/1/2015</td>\n      <td>PEPSI BOTTLING GROUP INC.</td>\n      <td>4541 HOUSTON AVE.</td>\n      <td>NaN</td>\n      <td>MACON</td>\n      <td>GEORGIA</td>\n      <td>31206.0</td>\n      <td>32.77</td>\n      <td>...</td>\n      <td>1972</td>\n      <td>Soreness, pain, hurt-nonspecified injury</td>\n      <td>510</td>\n      <td>Leg(s), unspecified</td>\n      <td>640</td>\n      <td>Caught in or compressed by equipment or object...</td>\n      <td>8623</td>\n      <td>Pallet jack-powered</td>\n      <td>8420.0</td>\n      <td>Truck-motorized freight hauling and utility, u...</td>\n    </tr>\n    <tr>\n      <th>4</th>\n      <td>2015010020</td>\n      <td>929642</td>\n      <td>1/1/2015</td>\n      <td>North American Pipe Corporation</td>\n      <td>210 South Arch Street</td>\n      <td>NaN</td>\n      <td>JANESVILLE</td>\n      <td>WISCONSIN</td>\n      <td>53545.0</td>\n      <td>42.67</td>\n      <td>...</td>\n      <td>111</td>\n      <td>Fractures</td>\n      <td>4429</td>\n      <td>Finger(s), fingernail(s), n.e.c.</td>\n      <td>6411</td>\n      <td>Caught in running equipment or machinery durin...</td>\n      <td>350</td>\n      <td>Metal, woodworking, and special material machi...</td>\n      <td>NaN</td>\n      <td>NaN</td>\n    </tr>\n  </tbody>\n</table>\n<p>5 rows × 26 columns</p>\n</div>"
     },
     "metadata": {},
     "output_type": "execute_result",
     "execution_count": 36
    }
   ],
   "source": [
    "df = pd.read_csv(\"database/severeinjury.csv\", \n",
    "     engine='python')\n",
    "\n",
    "\n",
    "df.head(5)"
   ],
   "metadata": {
    "collapsed": false,
    "pycharm": {
     "name": "#%%\n",
     "is_executing": false
    }
   }
  },
  {
   "cell_type": "markdown",
   "metadata": {},
   "outputs": [],
   "source": [
    "### 2) **(5%)** Descrição básica do conjunto de dados escolhido pelo aluno (1 parágrafo).\n",
    "- Identificação da variável a serem trabalhadas\n",
    "- Classificação das variáveis como: contínua ou discreta.\n"
   ]
  },
  {
   "cell_type": "code",
   "execution_count": 37,
   "outputs": [
    {
     "data": {
      "text/plain": "Index(['ID', 'UPA', 'EventDate', 'Employer', 'Address1', 'Address2', 'City',\n       'State', 'Zip', 'Latitude', 'Longitude', 'Primary NAICS',\n       'Hospitalized', 'Amputation', 'Inspection', 'Final Narrative', 'Nature',\n       'NatureTitle', 'Part of Body', 'Part of Body Title', 'Event',\n       'EventTitle', 'Source', 'SourceTitle', 'Secondary Source',\n       'Secondary Source Title'],\n      dtype='object')"
     },
     "metadata": {},
     "output_type": "execute_result",
     "execution_count": 37
    }
   ],
   "source": [
    "df.columns"
   ],
   "metadata": {
    "collapsed": false,
    "pycharm": {
     "name": "#%%\n",
     "is_executing": false
    }
   }
  },
  {
   "cell_type": "markdown",
   "metadata": {},
   "outputs": [],
   "source": [
    "*Descrição da base e suas variáveis*\n",
    "\n",
    "É um banco com dados de acidentes graves de trabalho, com detalhamento da gravidade do acidente, parte do corpo atingida, natureza da lesão e também informações demográficas, especialmente cidade e estado, permitindo comparações das features de gravidade dos acidentes em relação aos estados e cidades.\n",
    "\n"
   ]
  },
  {
   "cell_type": "markdown",
   "metadata": {},
   "outputs": [],
   "source": [
    "### 3) **(15%)** Faça uma avaliação descritiva da sua base. Quantas linhas ela possui? Quais os tipos de dados? Quantas e quais features possuem?\n",
    "\n",
    "Cada variável escolhida pelo aluno precisa passar por ao menos 1 pré-processamento. O pré-processamento pode ser (mas não está limitado a):\n",
    "- Checagem se os valores estão dentro de um limite permitido ou razoável.\n",
    "- Tratamento de valores ausentes por eliminação ou substituição.\n",
    "- Conversão do tipo de dados.\n",
    "\n",
    "\n"
   ]
  },
  {
   "cell_type": "markdown",
   "source": [
    "Consultando linhas e colunas"
   ],
   "metadata": {
    "collapsed": false,
    "pycharm": {
     "name": "#%% md\n",
     "is_executing": false
    }
   }
  },
  {
   "cell_type": "code",
   "execution_count": 38,
   "outputs": [
    {
     "data": {
      "text/plain": "(21578, 26)"
     },
     "metadata": {},
     "output_type": "execute_result",
     "execution_count": 38
    }
   ],
   "source": [
    "df.shape"
   ],
   "metadata": {
    "collapsed": false,
    "pycharm": {
     "name": "#%%\n",
     "is_executing": false
    }
   }
  },
  {
   "cell_type": "markdown",
   "metadata": {
    "pycharm": {
     "name": "#%% md\n"
    }
   },
   "source": [
    "A base contém 21.578 linhas e 26 colunas\n",
    "\n",
    "Colunas: \n",
    "- (-) ID: Identificador chave PK da linha, irrelevante para estatística\n",
    "- (-) UPA: Valor numérico não identificado\n",
    "- (+) EventDate: Data do incidente/acidente\n",
    "- (-) Employer: Nome da empresa contratatante\n",
    "- (-) Address1: Endereço do empregado\n",
    "- (-) Address2: Continuação do endereço\n",
    "- (+) City: Cidade\n",
    "- (+) State: Estado\n",
    "- (-) Zip: CEP\n",
    "- (+) Latitude\n",
    "- (+) Longitude\n",
    "- (-) Primay NAICS (Numérico não identificado)\n",
    "- (+) Hospitalized (Binário)\n",
    "- (+) Amputation (Binário)\n",
    "- (-) Inspection (Numérico) - Código\n",
    "- (-) Final Narrative (Descrição)\n",
    "- (+) Nature (Código da Natureza)\n",
    "- (+) Nature Title\n",
    "- (+) Part of Body (Código da parte do corpo)\n",
    "- (+) Part of Body Title\n",
    "- (+) Event (Código do evento)\n",
    "- (+) Event Title\n",
    "- (+) Source (Código da Fonte)\n",
    "- (+) Source title\n",
    "- (+) Secondary Source (Código da fonte secundária)\n",
    "- (+) Secondary Source Title\n",
    "\n",
    "Das 26 colunas, 17 serão utilizadas (+), sendo as últimas 10 são informações repetidas (código/descrição).\n",
    "As colunas marcadas com (-) não serão utilizadas na análise.\n",
    "Há necessidades de colunas adicionais auxiliares como quebrar EventDate em Dia, mês e ano e dia da semana."
   ]
  },
  {
   "cell_type": "markdown",
   "source": [
    "Dropando as colunas desnecessárias, exceto Endereço, por enquanto"
   ],
   "metadata": {
    "collapsed": false,
    "pycharm": {
     "name": "#%% md\n",
     "is_executing": false
    }
   }
  },
  {
   "cell_type": "markdown",
   "source": [
    "Verificarndo que não há muitos dados únicos relevantes de empregadores, desprezando também\n",
    "\n",
    "df['Employer'].describe()"
   ],
   "metadata": {
    "collapsed": false,
    "pycharm": {
     "name": "#%% md\n",
     "is_executing": false
    }
   }
  },
  {
   "cell_type": "code",
   "execution_count": 39,
   "outputs": [],
   "source": [
    "df=df.drop(['ID', 'UPA', 'Employer', 'Zip','Primary NAICS','Inspection', 'Final Narrative'],axis = 1)"
   ],
   "metadata": {
    "collapsed": false,
    "pycharm": {
     "name": "#%%\n",
     "is_executing": false
    }
   }
  },
  {
   "cell_type": "markdown",
   "source": [
    "Mostrando as colunas resultantes"
   ],
   "metadata": {
    "collapsed": false,
    "pycharm": {
     "name": "#%% md\n",
     "is_executing": false
    }
   }
  },
  {
   "cell_type": "code",
   "execution_count": 40,
   "outputs": [
    {
     "data": {
      "text/plain": "Index(['EventDate', 'Address1', 'Address2', 'City', 'State', 'Latitude',\n       'Longitude', 'Hospitalized', 'Amputation', 'Nature', 'NatureTitle',\n       'Part of Body', 'Part of Body Title', 'Event', 'EventTitle', 'Source',\n       'SourceTitle', 'Secondary Source', 'Secondary Source Title'],\n      dtype='object')"
     },
     "metadata": {},
     "output_type": "execute_result",
     "execution_count": 40
    }
   ],
   "source": [
    "df.columns"
   ],
   "metadata": {
    "collapsed": false,
    "pycharm": {
     "name": "#%%\n",
     "is_executing": false
    }
   }
  },
  {
   "cell_type": "markdown",
   "source": [
    "Mostrando os tipos existentes"
   ],
   "metadata": {
    "collapsed": false,
    "pycharm": {
     "name": "#%% md\n",
     "is_executing": false
    }
   }
  },
  {
   "cell_type": "code",
   "execution_count": 41,
   "outputs": [
    {
     "data": {
      "text/plain": "EventDate                  object\nAddress1                   object\nAddress2                   object\nCity                       object\nState                      object\nLatitude                  float64\nLongitude                 float64\nHospitalized              float64\nAmputation                float64\nNature                      int64\nNatureTitle                object\nPart of Body                int64\nPart of Body Title         object\nEvent                       int64\nEventTitle                 object\nSource                      int64\nSourceTitle                object\nSecondary Source          float64\nSecondary Source Title     object\ndtype: object"
     },
     "metadata": {},
     "output_type": "execute_result",
     "execution_count": 41
    }
   ],
   "source": [
    "df.dtypes"
   ],
   "metadata": {
    "collapsed": false,
    "pycharm": {
     "name": "#%%\n",
     "is_executing": false
    }
   }
  },
  {
   "cell_type": "markdown",
   "source": [
    "Informações importantes sobre o dataframe para Insights"
   ],
   "metadata": {
    "collapsed": false,
    "pycharm": {
     "name": "#%% md\n",
     "is_executing": false
    }
   }
  },
  {
   "cell_type": "code",
   "execution_count": 42,
   "outputs": [
    {
     "data": {
      "text/plain": "           Latitude     Longitude  Hospitalized    Amputation        Nature  \\\ncount  21487.000000  21487.000000  21578.000000  21576.000000  21578.000000   \nmean      36.722735    -87.691200      0.807999      0.269837    886.975206   \nstd        5.500293     11.132113      0.412055      0.451033    779.275403   \nmin      -15.780000   -170.710000      0.000000      0.000000      7.000000   \n25%       32.200000    -95.400000      1.000000      0.000000    111.000000   \n50%       38.770000    -87.660000      1.000000      0.000000   1311.000000   \n75%       41.090000    -80.625000      1.000000      1.000000   1312.000000   \nmax       61.290000    145.750000      3.000000      9.000000   9999.000000   \n\n       Part of Body         Event        Source  Secondary Source  \ncount  21578.000000  21578.000000  21578.000000       5812.000000  \nmean    2282.536055   3905.397071   4811.297618       5210.936855  \nstd     2796.269288   2523.757451   2882.715191       3227.633387  \nmin        6.000000     20.000000     10.000000         10.000000  \n25%      320.000000    642.000000   3230.000000       2214.000000  \n50%      513.000000   4331.000000   4153.500000       4418.000000  \n75%     4422.000000   6252.000000   7124.000000       8621.000000  \nmax     9999.000000   9999.000000   9999.000000       9999.000000  ",
      "text/html": "<div>\n<style scoped>\n    .dataframe tbody tr th:only-of-type {\n        vertical-align: middle;\n    }\n\n    .dataframe tbody tr th {\n        vertical-align: top;\n    }\n\n    .dataframe thead th {\n        text-align: right;\n    }\n</style>\n<table border=\"1\" class=\"dataframe\">\n  <thead>\n    <tr style=\"text-align: right;\">\n      <th></th>\n      <th>Latitude</th>\n      <th>Longitude</th>\n      <th>Hospitalized</th>\n      <th>Amputation</th>\n      <th>Nature</th>\n      <th>Part of Body</th>\n      <th>Event</th>\n      <th>Source</th>\n      <th>Secondary Source</th>\n    </tr>\n  </thead>\n  <tbody>\n    <tr>\n      <th>count</th>\n      <td>21487.000000</td>\n      <td>21487.000000</td>\n      <td>21578.000000</td>\n      <td>21576.000000</td>\n      <td>21578.000000</td>\n      <td>21578.000000</td>\n      <td>21578.000000</td>\n      <td>21578.000000</td>\n      <td>5812.000000</td>\n    </tr>\n    <tr>\n      <th>mean</th>\n      <td>36.722735</td>\n      <td>-87.691200</td>\n      <td>0.807999</td>\n      <td>0.269837</td>\n      <td>886.975206</td>\n      <td>2282.536055</td>\n      <td>3905.397071</td>\n      <td>4811.297618</td>\n      <td>5210.936855</td>\n    </tr>\n    <tr>\n      <th>std</th>\n      <td>5.500293</td>\n      <td>11.132113</td>\n      <td>0.412055</td>\n      <td>0.451033</td>\n      <td>779.275403</td>\n      <td>2796.269288</td>\n      <td>2523.757451</td>\n      <td>2882.715191</td>\n      <td>3227.633387</td>\n    </tr>\n    <tr>\n      <th>min</th>\n      <td>-15.780000</td>\n      <td>-170.710000</td>\n      <td>0.000000</td>\n      <td>0.000000</td>\n      <td>7.000000</td>\n      <td>6.000000</td>\n      <td>20.000000</td>\n      <td>10.000000</td>\n      <td>10.000000</td>\n    </tr>\n    <tr>\n      <th>25%</th>\n      <td>32.200000</td>\n      <td>-95.400000</td>\n      <td>1.000000</td>\n      <td>0.000000</td>\n      <td>111.000000</td>\n      <td>320.000000</td>\n      <td>642.000000</td>\n      <td>3230.000000</td>\n      <td>2214.000000</td>\n    </tr>\n    <tr>\n      <th>50%</th>\n      <td>38.770000</td>\n      <td>-87.660000</td>\n      <td>1.000000</td>\n      <td>0.000000</td>\n      <td>1311.000000</td>\n      <td>513.000000</td>\n      <td>4331.000000</td>\n      <td>4153.500000</td>\n      <td>4418.000000</td>\n    </tr>\n    <tr>\n      <th>75%</th>\n      <td>41.090000</td>\n      <td>-80.625000</td>\n      <td>1.000000</td>\n      <td>1.000000</td>\n      <td>1312.000000</td>\n      <td>4422.000000</td>\n      <td>6252.000000</td>\n      <td>7124.000000</td>\n      <td>8621.000000</td>\n    </tr>\n    <tr>\n      <th>max</th>\n      <td>61.290000</td>\n      <td>145.750000</td>\n      <td>3.000000</td>\n      <td>9.000000</td>\n      <td>9999.000000</td>\n      <td>9999.000000</td>\n      <td>9999.000000</td>\n      <td>9999.000000</td>\n      <td>9999.000000</td>\n    </tr>\n  </tbody>\n</table>\n</div>"
     },
     "metadata": {},
     "output_type": "execute_result",
     "execution_count": 42
    }
   ],
   "source": [
    "df.describe()"
   ],
   "metadata": {
    "collapsed": false,
    "pycharm": {
     "name": "#%%\n",
     "is_executing": false
    }
   }
  },
  {
   "cell_type": "markdown",
   "source": [
    "Analisando individualmente algumas colunas"
   ],
   "metadata": {
    "collapsed": false,
    "pycharm": {
     "name": "#%% md\n",
     "is_executing": false
    }
   }
  },
  {
   "cell_type": "code",
   "execution_count": 43,
   "outputs": [
    {
     "data": {
      "text/plain": "count       21569\nunique       4642\ntop       HOUSTON\nfreq          403\nName: City, dtype: object"
     },
     "metadata": {},
     "output_type": "execute_result",
     "execution_count": 43
    }
   ],
   "source": [
    "df[\"City\"].describe()"
   ],
   "metadata": {
    "collapsed": false,
    "pycharm": {
     "name": "#%% \n",
     "is_executing": false
    }
   }
  },
  {
   "cell_type": "code",
   "execution_count": 44,
   "outputs": [
    {
     "data": {
      "text/plain": "count    21578.000000\nmean      2282.536055\nstd       2796.269288\nmin          6.000000\n25%        320.000000\n50%        513.000000\n75%       4422.000000\nmax       9999.000000\nName: Part of Body, dtype: float64"
     },
     "metadata": {},
     "output_type": "execute_result",
     "execution_count": 44
    }
   ],
   "source": [
    "df[\"Part of Body\"].describe()"
   ],
   "metadata": {
    "collapsed": false,
    "pycharm": {
     "name": "#%%\n",
     "is_executing": false
    }
   }
  },
  {
   "cell_type": "markdown",
   "source": [
    "Valores únicos de Origem do Acidente"
   ],
   "metadata": {
    "collapsed": false,
    "pycharm": {
     "name": "#%% md\n"
    }
   }
  },
  {
   "cell_type": "code",
   "execution_count": 45,
   "outputs": [
    {
     "data": {
      "text/plain": "903"
     },
     "metadata": {},
     "output_type": "execute_result",
     "execution_count": 45
    }
   ],
   "source": [
    "len (df[\"Source\"].unique())"
   ],
   "metadata": {
    "collapsed": false,
    "pycharm": {
     "name": "#%%\n",
     "is_executing": false
    }
   }
  },
  {
   "cell_type": "markdown",
   "source": [
    "Encontradas 903 fontes diferentes na base "
   ],
   "metadata": {
    "collapsed": false,
    "pycharm": {
     "name": "#%% md\n",
     "is_executing": false
    }
   }
  },
  {
   "cell_type": "markdown",
   "source": [
    "Verificando se há valores nulos em algum lugar que possam ser substituídos\n",
    "\n",
    "Gerando um novo dataframe só com os valores nulos"
   ],
   "metadata": {
    "collapsed": false,
    "pycharm": {
     "name": "#%% md\n"
    }
   }
  },
  {
   "cell_type": "code",
   "execution_count": 46,
   "outputs": [
    {
     "data": {
      "text/plain": "  EventDate               Address1 Address2         City         State  \\\n0  1/1/2015         Two Mile Drive      NaN    OTISVILLE      NEW YORK   \n1  1/1/2015     171 Progress Drive      NaN  LAKE DELTON     WISCONSIN   \n2  1/1/2015    420 CORAOPOLIS ROAD      NaN   CORAOPOLIS  PENNSYLVANIA   \n3  1/1/2015      4541 HOUSTON AVE.      NaN        MACON       GEORGIA   \n4  1/1/2015  210 South Arch Street      NaN   JANESVILLE     WISCONSIN   \n\n   Latitude  Longitude  Hospitalized  Amputation  Nature  \\\n0     41.46     -74.53           1.0         0.0     111   \n1     43.59     -89.79           1.0         0.0    1522   \n2     40.49     -80.11           1.0         0.0      10   \n3     32.77     -83.65           1.0         0.0    1972   \n4     42.67     -89.04           1.0         0.0     111   \n\n                                     NatureTitle  Part of Body  \\\n0                                      Fractures           513   \n1             Second degree heat (thermal) burns           519   \n2  Traumatic injuries and disorders, unspecified          9999   \n3       Soreness, pain, hurt-nonspecified injury           510   \n4                                      Fractures          4429   \n\n                 Part of Body Title  Event  \\\n0                      Lower leg(s)   1214   \n1                    Leg(s), n.e.c.    317   \n2                   Nonclassifiable   4331   \n3               Leg(s), unspecified    640   \n4  Finger(s), fingernail(s), n.e.c.   6411   \n\n                                          EventTitle  Source  \\\n0  Injured by physical contact with person while ...    5721   \n1              Ignition of vapors, gases, or liquids    7261   \n2         Other fall to lower level less than 6 feet    8421   \n3  Caught in or compressed by equipment or object...    8623   \n4  Caught in running equipment or machinery durin...     350   \n\n                                         SourceTitle  Secondary Source  \\\n0                                          Co-worker            5772.0   \n1                 Welding, cutting, and blow torches               NaN   \n2                Semi, tractor-trailer, tanker truck             741.0   \n3                                Pallet jack-powered            8420.0   \n4  Metal, woodworking, and special material machi...               NaN   \n\n                              Secondary Source Title  \n0                      Inmate or detainee in custody  \n1                                                NaN  \n2                                      Ladders-fixed  \n3  Truck-motorized freight hauling and utility, u...  \n4                                                NaN  ",
      "text/html": "<div>\n<style scoped>\n    .dataframe tbody tr th:only-of-type {\n        vertical-align: middle;\n    }\n\n    .dataframe tbody tr th {\n        vertical-align: top;\n    }\n\n    .dataframe thead th {\n        text-align: right;\n    }\n</style>\n<table border=\"1\" class=\"dataframe\">\n  <thead>\n    <tr style=\"text-align: right;\">\n      <th></th>\n      <th>EventDate</th>\n      <th>Address1</th>\n      <th>Address2</th>\n      <th>City</th>\n      <th>State</th>\n      <th>Latitude</th>\n      <th>Longitude</th>\n      <th>Hospitalized</th>\n      <th>Amputation</th>\n      <th>Nature</th>\n      <th>NatureTitle</th>\n      <th>Part of Body</th>\n      <th>Part of Body Title</th>\n      <th>Event</th>\n      <th>EventTitle</th>\n      <th>Source</th>\n      <th>SourceTitle</th>\n      <th>Secondary Source</th>\n      <th>Secondary Source Title</th>\n    </tr>\n  </thead>\n  <tbody>\n    <tr>\n      <th>0</th>\n      <td>1/1/2015</td>\n      <td>Two Mile Drive</td>\n      <td>NaN</td>\n      <td>OTISVILLE</td>\n      <td>NEW YORK</td>\n      <td>41.46</td>\n      <td>-74.53</td>\n      <td>1.0</td>\n      <td>0.0</td>\n      <td>111</td>\n      <td>Fractures</td>\n      <td>513</td>\n      <td>Lower leg(s)</td>\n      <td>1214</td>\n      <td>Injured by physical contact with person while ...</td>\n      <td>5721</td>\n      <td>Co-worker</td>\n      <td>5772.0</td>\n      <td>Inmate or detainee in custody</td>\n    </tr>\n    <tr>\n      <th>1</th>\n      <td>1/1/2015</td>\n      <td>171 Progress Drive</td>\n      <td>NaN</td>\n      <td>LAKE DELTON</td>\n      <td>WISCONSIN</td>\n      <td>43.59</td>\n      <td>-89.79</td>\n      <td>1.0</td>\n      <td>0.0</td>\n      <td>1522</td>\n      <td>Second degree heat (thermal) burns</td>\n      <td>519</td>\n      <td>Leg(s), n.e.c.</td>\n      <td>317</td>\n      <td>Ignition of vapors, gases, or liquids</td>\n      <td>7261</td>\n      <td>Welding, cutting, and blow torches</td>\n      <td>NaN</td>\n      <td>NaN</td>\n    </tr>\n    <tr>\n      <th>2</th>\n      <td>1/1/2015</td>\n      <td>420 CORAOPOLIS ROAD</td>\n      <td>NaN</td>\n      <td>CORAOPOLIS</td>\n      <td>PENNSYLVANIA</td>\n      <td>40.49</td>\n      <td>-80.11</td>\n      <td>1.0</td>\n      <td>0.0</td>\n      <td>10</td>\n      <td>Traumatic injuries and disorders, unspecified</td>\n      <td>9999</td>\n      <td>Nonclassifiable</td>\n      <td>4331</td>\n      <td>Other fall to lower level less than 6 feet</td>\n      <td>8421</td>\n      <td>Semi, tractor-trailer, tanker truck</td>\n      <td>741.0</td>\n      <td>Ladders-fixed</td>\n    </tr>\n    <tr>\n      <th>3</th>\n      <td>1/1/2015</td>\n      <td>4541 HOUSTON AVE.</td>\n      <td>NaN</td>\n      <td>MACON</td>\n      <td>GEORGIA</td>\n      <td>32.77</td>\n      <td>-83.65</td>\n      <td>1.0</td>\n      <td>0.0</td>\n      <td>1972</td>\n      <td>Soreness, pain, hurt-nonspecified injury</td>\n      <td>510</td>\n      <td>Leg(s), unspecified</td>\n      <td>640</td>\n      <td>Caught in or compressed by equipment or object...</td>\n      <td>8623</td>\n      <td>Pallet jack-powered</td>\n      <td>8420.0</td>\n      <td>Truck-motorized freight hauling and utility, u...</td>\n    </tr>\n    <tr>\n      <th>4</th>\n      <td>1/1/2015</td>\n      <td>210 South Arch Street</td>\n      <td>NaN</td>\n      <td>JANESVILLE</td>\n      <td>WISCONSIN</td>\n      <td>42.67</td>\n      <td>-89.04</td>\n      <td>1.0</td>\n      <td>0.0</td>\n      <td>111</td>\n      <td>Fractures</td>\n      <td>4429</td>\n      <td>Finger(s), fingernail(s), n.e.c.</td>\n      <td>6411</td>\n      <td>Caught in running equipment or machinery durin...</td>\n      <td>350</td>\n      <td>Metal, woodworking, and special material machi...</td>\n      <td>NaN</td>\n      <td>NaN</td>\n    </tr>\n  </tbody>\n</table>\n</div>"
     },
     "metadata": {},
     "output_type": "execute_result",
     "execution_count": 46
    }
   ],
   "source": [
    "df1 = df[df.isna().any(axis=1)]\n",
    "df1.head()"
   ],
   "metadata": {
    "collapsed": false,
    "pycharm": {
     "name": "#%%\n",
     "is_executing": false
    }
   }
  },
  {
   "cell_type": "markdown",
   "source": [
    "Eliminando o dataframe auxiliar"
   ],
   "metadata": {
    "collapsed": false,
    "pycharm": {
     "name": "#%% md\n"
    }
   }
  },
  {
   "cell_type": "code",
   "execution_count": 47,
   "outputs": [],
   "source": [
    "del df1"
   ],
   "metadata": {
    "collapsed": false,
    "pycharm": {
     "name": "#%%\n",
     "is_executing": false
    }
   }
  },
  {
   "cell_type": "markdown",
   "source": [
    "Identificado que a coluna Secondary Source tem muitos valores nulos, dropando as colunas equivalentes"
   ],
   "metadata": {
    "collapsed": false,
    "pycharm": {
     "name": "#%% md\n",
     "is_executing": false
    }
   }
  },
  {
   "cell_type": "code",
   "execution_count": 48,
   "outputs": [
    {
     "data": {
      "text/plain": "  EventDate                                 Address1 Address2         City  \\\n0  1/1/2015                           Two Mile Drive      NaN    OTISVILLE   \n1  1/1/2015                       171 Progress Drive      NaN  LAKE DELTON   \n2  1/1/2015                      420 CORAOPOLIS ROAD      NaN   CORAOPOLIS   \n3  1/1/2015                        4541 HOUSTON AVE.      NaN        MACON   \n4  1/1/2015                    210 South Arch Street      NaN   JANESVILLE   \n5  1/1/2015                3031 NE Pine Island Road       NaN   CAPE CORAL   \n6  1/1/2015                          6505 Jewel Ave       NaN        TAMPA   \n7  1/2/2015  Wells Ranch, 3314-225-228, Tank Battery      NaN         GILL   \n8  1/2/2015                           38734 S CR 200      NaN     WOODWARD   \n9  1/2/2015                 6201 West Colonial Drive      NaN      ORLANDO   \n\n          State  Latitude  Longitude  Hospitalized  Amputation  Nature  \\\n0      NEW YORK     41.46     -74.53           1.0         0.0     111   \n1     WISCONSIN     43.59     -89.79           1.0         0.0    1522   \n2  PENNSYLVANIA     40.49     -80.11           1.0         0.0      10   \n3       GEORGIA     32.77     -83.65           1.0         0.0    1972   \n4     WISCONSIN     42.67     -89.04           1.0         0.0     111   \n5       FLORIDA     26.68     -81.91           1.0         0.0    1972   \n6       FLORIDA     27.96     -82.38           0.0         1.0    1311   \n7      COLORADO     40.47    -104.51           1.0         0.0    1520   \n8      OKLAHOMA     36.42     -99.43           1.0         0.0      10   \n9       FLORIDA     28.55     -81.46           0.0         1.0    1311   \n\n                                     NatureTitle  Part of Body  \\\n0                                      Fractures           513   \n1             Second degree heat (thermal) burns           519   \n2  Traumatic injuries and disorders, unspecified          9999   \n3       Soreness, pain, hurt-nonspecified injury           510   \n4                                      Fractures          4429   \n5       Soreness, pain, hurt-nonspecified injury           422   \n6                                    Amputations          4422   \n7              Heat (thermal) burns, unspecified          9999   \n8  Traumatic injuries and disorders, unspecified          9999   \n9                                    Amputations          4422   \n\n                 Part of Body Title  Event  \\\n0                      Lower leg(s)   1214   \n1                    Leg(s), n.e.c.    317   \n2                   Nonclassifiable   4331   \n3               Leg(s), unspecified    640   \n4  Finger(s), fingernail(s), n.e.c.   6411   \n5                          Elbow(s)    422   \n6                      Fingertip(s)   6412   \n7                   Nonclassifiable   9999   \n8                   Nonclassifiable    620   \n9                      Fingertip(s)   6252   \n\n                                          EventTitle  Source  \\\n0  Injured by physical contact with person while ...    5721   \n1              Ignition of vapors, gases, or liquids    7261   \n2         Other fall to lower level less than 6 feet    8421   \n3  Caught in or compressed by equipment or object...    8623   \n4  Caught in running equipment or machinery durin...     350   \n5                Fall on same level due to slipping      660   \n6  Caught in running equipment or machinery durin...     370   \n7                                    Nonclassifiable    9999   \n8         Struck by object or equipment, unspecified    4813   \n9  Injured by slipping or swinging object held by...    7125   \n\n                                         SourceTitle  \n0                                          Co-worker  \n1                 Welding, cutting, and blow torches  \n2                Semi, tractor-trailer, tanker truck  \n3                                Pallet jack-powered  \n4  Metal, woodworking, and special material machi...  \n5     Floors, walkways, ground surfaces, unspecified  \n6             Special process machinery, unspecified  \n7                                    Nonclassifiable  \n8                                 Tires, except bike  \n9                      Knives, unspecified or n.e.c.  ",
      "text/html": "<div>\n<style scoped>\n    .dataframe tbody tr th:only-of-type {\n        vertical-align: middle;\n    }\n\n    .dataframe tbody tr th {\n        vertical-align: top;\n    }\n\n    .dataframe thead th {\n        text-align: right;\n    }\n</style>\n<table border=\"1\" class=\"dataframe\">\n  <thead>\n    <tr style=\"text-align: right;\">\n      <th></th>\n      <th>EventDate</th>\n      <th>Address1</th>\n      <th>Address2</th>\n      <th>City</th>\n      <th>State</th>\n      <th>Latitude</th>\n      <th>Longitude</th>\n      <th>Hospitalized</th>\n      <th>Amputation</th>\n      <th>Nature</th>\n      <th>NatureTitle</th>\n      <th>Part of Body</th>\n      <th>Part of Body Title</th>\n      <th>Event</th>\n      <th>EventTitle</th>\n      <th>Source</th>\n      <th>SourceTitle</th>\n    </tr>\n  </thead>\n  <tbody>\n    <tr>\n      <th>0</th>\n      <td>1/1/2015</td>\n      <td>Two Mile Drive</td>\n      <td>NaN</td>\n      <td>OTISVILLE</td>\n      <td>NEW YORK</td>\n      <td>41.46</td>\n      <td>-74.53</td>\n      <td>1.0</td>\n      <td>0.0</td>\n      <td>111</td>\n      <td>Fractures</td>\n      <td>513</td>\n      <td>Lower leg(s)</td>\n      <td>1214</td>\n      <td>Injured by physical contact with person while ...</td>\n      <td>5721</td>\n      <td>Co-worker</td>\n    </tr>\n    <tr>\n      <th>1</th>\n      <td>1/1/2015</td>\n      <td>171 Progress Drive</td>\n      <td>NaN</td>\n      <td>LAKE DELTON</td>\n      <td>WISCONSIN</td>\n      <td>43.59</td>\n      <td>-89.79</td>\n      <td>1.0</td>\n      <td>0.0</td>\n      <td>1522</td>\n      <td>Second degree heat (thermal) burns</td>\n      <td>519</td>\n      <td>Leg(s), n.e.c.</td>\n      <td>317</td>\n      <td>Ignition of vapors, gases, or liquids</td>\n      <td>7261</td>\n      <td>Welding, cutting, and blow torches</td>\n    </tr>\n    <tr>\n      <th>2</th>\n      <td>1/1/2015</td>\n      <td>420 CORAOPOLIS ROAD</td>\n      <td>NaN</td>\n      <td>CORAOPOLIS</td>\n      <td>PENNSYLVANIA</td>\n      <td>40.49</td>\n      <td>-80.11</td>\n      <td>1.0</td>\n      <td>0.0</td>\n      <td>10</td>\n      <td>Traumatic injuries and disorders, unspecified</td>\n      <td>9999</td>\n      <td>Nonclassifiable</td>\n      <td>4331</td>\n      <td>Other fall to lower level less than 6 feet</td>\n      <td>8421</td>\n      <td>Semi, tractor-trailer, tanker truck</td>\n    </tr>\n    <tr>\n      <th>3</th>\n      <td>1/1/2015</td>\n      <td>4541 HOUSTON AVE.</td>\n      <td>NaN</td>\n      <td>MACON</td>\n      <td>GEORGIA</td>\n      <td>32.77</td>\n      <td>-83.65</td>\n      <td>1.0</td>\n      <td>0.0</td>\n      <td>1972</td>\n      <td>Soreness, pain, hurt-nonspecified injury</td>\n      <td>510</td>\n      <td>Leg(s), unspecified</td>\n      <td>640</td>\n      <td>Caught in or compressed by equipment or object...</td>\n      <td>8623</td>\n      <td>Pallet jack-powered</td>\n    </tr>\n    <tr>\n      <th>4</th>\n      <td>1/1/2015</td>\n      <td>210 South Arch Street</td>\n      <td>NaN</td>\n      <td>JANESVILLE</td>\n      <td>WISCONSIN</td>\n      <td>42.67</td>\n      <td>-89.04</td>\n      <td>1.0</td>\n      <td>0.0</td>\n      <td>111</td>\n      <td>Fractures</td>\n      <td>4429</td>\n      <td>Finger(s), fingernail(s), n.e.c.</td>\n      <td>6411</td>\n      <td>Caught in running equipment or machinery durin...</td>\n      <td>350</td>\n      <td>Metal, woodworking, and special material machi...</td>\n    </tr>\n    <tr>\n      <th>5</th>\n      <td>1/1/2015</td>\n      <td>3031 NE Pine Island Road</td>\n      <td>NaN</td>\n      <td>CAPE CORAL</td>\n      <td>FLORIDA</td>\n      <td>26.68</td>\n      <td>-81.91</td>\n      <td>1.0</td>\n      <td>0.0</td>\n      <td>1972</td>\n      <td>Soreness, pain, hurt-nonspecified injury</td>\n      <td>422</td>\n      <td>Elbow(s)</td>\n      <td>422</td>\n      <td>Fall on same level due to slipping</td>\n      <td>660</td>\n      <td>Floors, walkways, ground surfaces, unspecified</td>\n    </tr>\n    <tr>\n      <th>6</th>\n      <td>1/1/2015</td>\n      <td>6505 Jewel Ave</td>\n      <td>NaN</td>\n      <td>TAMPA</td>\n      <td>FLORIDA</td>\n      <td>27.96</td>\n      <td>-82.38</td>\n      <td>0.0</td>\n      <td>1.0</td>\n      <td>1311</td>\n      <td>Amputations</td>\n      <td>4422</td>\n      <td>Fingertip(s)</td>\n      <td>6412</td>\n      <td>Caught in running equipment or machinery durin...</td>\n      <td>370</td>\n      <td>Special process machinery, unspecified</td>\n    </tr>\n    <tr>\n      <th>7</th>\n      <td>1/2/2015</td>\n      <td>Wells Ranch, 3314-225-228, Tank Battery</td>\n      <td>NaN</td>\n      <td>GILL</td>\n      <td>COLORADO</td>\n      <td>40.47</td>\n      <td>-104.51</td>\n      <td>1.0</td>\n      <td>0.0</td>\n      <td>1520</td>\n      <td>Heat (thermal) burns, unspecified</td>\n      <td>9999</td>\n      <td>Nonclassifiable</td>\n      <td>9999</td>\n      <td>Nonclassifiable</td>\n      <td>9999</td>\n      <td>Nonclassifiable</td>\n    </tr>\n    <tr>\n      <th>8</th>\n      <td>1/2/2015</td>\n      <td>38734 S CR 200</td>\n      <td>NaN</td>\n      <td>WOODWARD</td>\n      <td>OKLAHOMA</td>\n      <td>36.42</td>\n      <td>-99.43</td>\n      <td>1.0</td>\n      <td>0.0</td>\n      <td>10</td>\n      <td>Traumatic injuries and disorders, unspecified</td>\n      <td>9999</td>\n      <td>Nonclassifiable</td>\n      <td>620</td>\n      <td>Struck by object or equipment, unspecified</td>\n      <td>4813</td>\n      <td>Tires, except bike</td>\n    </tr>\n    <tr>\n      <th>9</th>\n      <td>1/2/2015</td>\n      <td>6201 West Colonial Drive</td>\n      <td>NaN</td>\n      <td>ORLANDO</td>\n      <td>FLORIDA</td>\n      <td>28.55</td>\n      <td>-81.46</td>\n      <td>0.0</td>\n      <td>1.0</td>\n      <td>1311</td>\n      <td>Amputations</td>\n      <td>4422</td>\n      <td>Fingertip(s)</td>\n      <td>6252</td>\n      <td>Injured by slipping or swinging object held by...</td>\n      <td>7125</td>\n      <td>Knives, unspecified or n.e.c.</td>\n    </tr>\n  </tbody>\n</table>\n</div>"
     },
     "metadata": {},
     "output_type": "execute_result",
     "execution_count": 48
    }
   ],
   "source": [
    "df=df.drop(['Secondary Source','Secondary Source Title'],axis=1)\n",
    "\n",
    "df.head(10)"
   ],
   "metadata": {
    "collapsed": false,
    "pycharm": {
     "name": "#%%\n",
     "is_executing": false
    }
   }
  },
  {
   "cell_type": "markdown",
   "source": [
    "Checando novamente se há valores nulos "
   ],
   "metadata": {
    "collapsed": false,
    "pycharm": {
     "name": "#%% md\n",
     "is_executing": false
    }
   }
  },
  {
   "cell_type": "code",
   "execution_count": 49,
   "outputs": [
    {
     "data": {
      "text/plain": "EventDate                 0\nAddress1                 10\nAddress2              19717\nCity                      9\nState                     0\nLatitude                 91\nLongitude                91\nHospitalized              0\nAmputation                2\nNature                    0\nNatureTitle               0\nPart of Body              0\nPart of Body Title        0\nEvent                     0\nEventTitle                0\nSource                    0\nSourceTitle               0\ndtype: int64"
     },
     "metadata": {},
     "output_type": "execute_result",
     "execution_count": 49
    }
   ],
   "source": [
    "df.isnull().values.any()\n",
    "df.isnull().sum() \n",
    " "
   ],
   "metadata": {
    "collapsed": false,
    "pycharm": {
     "name": "#%%\n",
     "is_executing": false
    }
   }
  },
  {
   "cell_type": "markdown",
   "source": [
    "Verificado que nas colunas City, Latitude, Longitude e Amputation há valores nulos\n",
    "\n",
    "No caso de Amputation, é possível deduzir que caso seja nulo, posso assumir que seja 0 (binário)"
   ],
   "metadata": {
    "collapsed": false,
    "pycharm": {
     "name": "#%% md\n",
     "is_executing": false
    }
   }
  },
  {
   "cell_type": "code",
   "execution_count": 50,
   "outputs": [],
   "source": [
    "df['Amputation'].fillna(0, inplace=True)"
   ],
   "metadata": {
    "collapsed": false,
    "pycharm": {
     "name": "#%%\n",
     "is_executing": false
    }
   }
  },
  {
   "cell_type": "markdown",
   "source": [
    "No caso de Latitude e Longitude, se a Cidade estiver preenchida, teoricamente é possível descobrir a latitude e longitude usando algum tipo de API"
   ],
   "metadata": {
    "collapsed": false,
    "pycharm": {
     "name": "#%% md\n"
    }
   }
  },
  {
   "cell_type": "code",
   "execution_count": 51,
   "outputs": [],
   "source": [
    "df1 = df[df['City'].isnull()]\n",
    "\n",
    "df1.head(10)\n",
    "del df1"
   ],
   "metadata": {
    "collapsed": false,
    "pycharm": {
     "name": "#%%\n",
     "is_executing": false
    }
   }
  },
  {
   "cell_type": "code",
   "execution_count": 52,
   "outputs": [
    {
     "name": "stdout",
     "text": [
      "Localizada cidade  Cherokee  a partir de Lat: 36.75  Long: -98.35\n",
      "Localizada cidade  Somerville  a partir de Lat: 42.38  Long: -71.08\n",
      "Localizada cidade  Watford City  a partir de Lat: 47.81  Long: -103.23\n",
      "Localizada cidade  Pasadena  a partir de Lat: 29.63  Long: -95.17\n",
      "Localizada cidade  Phoenix  a partir de Lat: 33.39  Long: -112.04\n",
      "Localizada cidade  Berkeley  a partir de Lat: 37.87  Long: -122.24\n",
      "Localizada cidade  North Reading  a partir de Lat: 42.56  Long: -71.13\n",
      "Localizada cidade  New York  a partir de Lat: 40.71  Long: -74.0\n"
     ],
     "output_type": "stream"
    }
   ],
   "source": [
    "geolocator = geo(user_agent=\"Python\")\n",
    "\n",
    "for index, row in df.iterrows():\n",
    "    if pd.isnull(row['City']):\n",
    "        location = geolocator.reverse(str(row['Latitude'])+\",\"+str(row['Longitude']))\n",
    "        city = \"\"\n",
    "       \n",
    "        if 'city' in location.raw['address'].keys():\n",
    "            city = location.raw['address']['city']\n",
    "        if 'town' in location.raw['address'].keys():     \n",
    "            city = location.raw['address']['town']  \n",
    "       \n",
    "        if city != \"\":\n",
    "            print (\"Localizada cidade \",city,\" a partir de Lat:\",str(row['Latitude']),' Long:',str(row['Longitude']))\n",
    "            df.at[index,'City']=city\n",
    "         "
   ],
   "metadata": {
    "collapsed": false,
    "pycharm": {
     "name": "#%%\n",
     "is_executing": false
    }
   }
  },
  {
   "cell_type": "markdown",
   "source": [
    "Verificando o que ficou ainda de valores nulos em City"
   ],
   "metadata": {
    "collapsed": false,
    "pycharm": {
     "name": "#%% md\n"
    }
   }
  },
  {
   "cell_type": "code",
   "execution_count": 53,
   "outputs": [],
   "source": [
    "df1 = df[df['City'].isnull()]\n",
    "\n",
    "df1.head(10)\n",
    "\n",
    "del df1\n",
    "    "
   ],
   "metadata": {
    "collapsed": false,
    "pycharm": {
     "name": "#%%\n",
     "is_executing": false
    }
   }
  },
  {
   "cell_type": "markdown",
   "source": [
    "Só ficou uma cidade que não foi possível identificar, mas 8 registros puderam ser identificados"
   ],
   "metadata": {
    "collapsed": false,
    "pycharm": {
     "name": "#%% md\n"
    }
   }
  },
  {
   "cell_type": "markdown",
   "source": [
    "Há também registros com a Cidade e Estado, mas não há Latitude e Longitude, porém poderia ser possível descobrir estes dados faltantes usando a biblioteca."
   ],
   "metadata": {
    "collapsed": false,
    "pycharm": {
     "name": "#%% md\n"
    }
   }
  },
  {
   "cell_type": "code",
   "execution_count": 54,
   "outputs": [
    {
     "name": "stdout",
     "text": [
      "Localizadas coordenadas  40.9686419714577 ,  -76.0166381926817  a partir do endereço  350 Jaycee Drive, HAZLETON, PENNSYLVANIA\n",
      "Localizadas coordenadas  42.0907919 ,  -75.9124576  a partir do endereço  4400 Vestal Parkway East, BINGHAMTON, NEW YORK\n",
      "Localizadas coordenadas  41.9779849 ,  -87.9093214128281  a partir do endereço  O'HARE INTERNATIONAL AIRPORT TERMINAL 5, CHICAGO, ILLINOIS\n",
      "Localizadas coordenadas  28.4655198163896 ,  -81.474808118156  a partir do endereço  6808 Turkey Lake Road , ORLANDO, FLORIDA\n",
      "Localizadas coordenadas  27.447431 ,  -80.3712258  a partir do endereço  25690 Orange Avenue, FORT PIERCE, FLORIDA\n",
      "Timeout em Housman Building, 780 Harrison Avenue, BOSTON, MASSACHUSETTS\n",
      "Localizadas coordenadas  29.7061434 ,  -95.3957772  a partir do endereço  6516 MD Anderson Blvd, HOUSTON, TEXAS\n",
      "Localizadas coordenadas  26.8757845 ,  -80.1153316  a partir do endereço  4010 Faraday Way, PALM BEACH GARDENS, FLORIDA\n",
      "Localizadas coordenadas  42.31018208 ,  -89.11345304  a partir do endereço  3625 Halsted Road, ROCKFORD, ILLINOIS\n",
      "Localizadas coordenadas  43.0837072 ,  -70.7410097  a partir do endereço  Portsmouth Naval Shipyard, KITTERY, MAINE\n",
      "Localizadas coordenadas  25.7949789 ,  -80.2867234109541  a partir do endereço  Miami International Airport, MIAMI, FLORIDA\n",
      "Localizadas coordenadas  39.7866408458375 ,  -104.856521975091  a partir do endereço  4945 Lima St, DENVER, COLORADO\n",
      "Localizadas coordenadas  41.5094771 ,  -90.5787477  a partir do endereço  Building 299, ROCK ISLAND, ILLINOIS\n"
     ],
     "output_type": "stream"
    }
   ],
   "source": [
    "for index, row in df.iterrows():\n",
    "    if pd.isnull(row['Longitude']):\n",
    "        address = str(row['Address1'])+\", \"+str(row['City'])+\", \"+str(row['State'])\n",
    "        try:\n",
    "            location = geolocator.geocode(address)\n",
    "            if location != None:\n",
    "                print (\"Localizadas coordenadas \",str(location.latitude),\", \",str(location.longitude),\" a partir do endereço \",address)\n",
    "                df.at[index,'Longitude']=location.longitude\n",
    "                df.at[index,'Latitude']=location.latitude\n",
    "        except:\n",
    "            print (\"Timeout em \"+address)\n",
    "            \n",
    "            "
   ],
   "metadata": {
    "collapsed": false,
    "pycharm": {
     "name": "#%% \n",
     "is_executing": false
    }
   }
  },
  {
   "cell_type": "markdown",
   "source": [
    "Checando o que ficou de valores nulos"
   ],
   "metadata": {
    "collapsed": false,
    "pycharm": {
     "name": "#%% md\n"
    }
   }
  },
  {
   "cell_type": "code",
   "execution_count": 55,
   "outputs": [
    {
     "data": {
      "text/plain": "EventDate                 0\nAddress1                 10\nAddress2              19717\nCity                      1\nState                     0\nLatitude                 79\nLongitude                79\nHospitalized              0\nAmputation                0\nNature                    0\nNatureTitle               0\nPart of Body              0\nPart of Body Title        0\nEvent                     0\nEventTitle                0\nSource                    0\nSourceTitle               0\ndtype: int64"
     },
     "metadata": {},
     "output_type": "execute_result",
     "execution_count": 55
    }
   ],
   "source": [
    "         \n",
    "df.isnull().values.any()\n",
    "df.isnull().sum() "
   ],
   "metadata": {
    "collapsed": false,
    "pycharm": {
     "name": "#%%         \n",
     "is_executing": false
    }
   }
  },
  {
   "cell_type": "markdown",
   "source": [
    "Verificado que foi possível complementar informações em 8 cidades e em 10 coordenadas de latitude e longitude.\n",
    "\n",
    "Agora, eliminar as colunas de endereço, desnecessárias e também os valores nulos."
   ],
   "metadata": {
    "collapsed": false,
    "pycharm": {
     "name": "#%% md\n"
    }
   }
  },
  {
   "cell_type": "code",
   "execution_count": 56,
   "outputs": [
    {
     "data": {
      "text/plain": "       EventDate         City                 State  Latitude  Longitude  \\\n0       1/1/2015    OTISVILLE              NEW YORK     41.46     -74.53   \n1       1/1/2015  LAKE DELTON             WISCONSIN     43.59     -89.79   \n2       1/1/2015   CORAOPOLIS          PENNSYLVANIA     40.49     -80.11   \n3       1/1/2015        MACON               GEORGIA     32.77     -83.65   \n4       1/1/2015   JANESVILLE             WISCONSIN     42.67     -89.04   \n...          ...          ...                   ...       ...        ...   \n21573  2/28/2017   WASHINGTON  DISTRICT OF COLUMBIA     38.92     -76.99   \n21574  2/28/2017       NEENAH             WISCONSIN     44.16     -88.47   \n21575  2/28/2017      BRANSON              MISSOURI     36.61     -93.27   \n21576  2/28/2017   WEST FARGO          NORTH DAKOTA     46.87     -96.93   \n21577  2/28/2017   SPRINGDALE              ARKANSAS     36.17     -94.09   \n\n       Hospitalized  Amputation  Nature  \\\n0               1.0         0.0     111   \n1               1.0         0.0    1522   \n2               1.0         0.0      10   \n3               1.0         0.0    1972   \n4               1.0         0.0     111   \n...             ...         ...     ...   \n21573           1.0         0.0    1834   \n21574           1.0         0.0     111   \n21575           1.0         0.0     111   \n21576           1.0         0.0    1961   \n21577           1.0         0.0     111   \n\n                                           NatureTitle  Part of Body  \\\n0                                            Fractures           513   \n1                   Second degree heat (thermal) burns           519   \n2        Traumatic injuries and disorders, unspecified          9999   \n3             Soreness, pain, hurt-nonspecified injury           510   \n4                                            Fractures          4429   \n...                                                ...           ...   \n21573                       Fractures and dislocations          4420   \n21574                                        Fractures           899   \n21575                                        Fractures           513   \n21576  Poisoning, including poisoning-related asphyxia             6   \n21577                                        Fractures           510   \n\n                          Part of Body Title  Event  \\\n0                               Lower leg(s)   1214   \n1                             Leg(s), n.e.c.    317   \n2                            Nonclassifiable   4331   \n3                        Leg(s), unspecified    640   \n4           Finger(s), fingernail(s), n.e.c.   6411   \n...                                      ...    ...   \n21573  Finger(s), fingernail(s), unspecified   4320   \n21574            Multiple body parts, n.e.c.   4332   \n21575                           Lower leg(s)   4331   \n21576                           BODY SYSTEMS   5521   \n21577                    Leg(s), unspecified   6239   \n\n                                              EventTitle  Source  \\\n0      Injured by physical contact with person while ...    5721   \n1                  Ignition of vapors, gases, or liquids    7261   \n2             Other fall to lower level less than 6 feet    8421   \n3      Caught in or compressed by equipment or object...    8623   \n4      Caught in running equipment or machinery durin...     350   \n...                                                  ...     ...   \n21573  Fall through surface or existing opening, unsp...    6340   \n21574             Other fall to lower level 6 to 10 feet    6395   \n21575         Other fall to lower level less than 6 feet    6611   \n21576     Inhalation of harmful substance-single episode    1741   \n21577      Struck by falling object or equipment, n.e.c.    2131   \n\n                                             SourceTitle  \n0                                              Co-worker  \n1                     Welding, cutting, and blow torches  \n2                    Semi, tractor-trailer, tanker truck  \n3                                    Pallet jack-powered  \n4      Metal, woodworking, and special material machi...  \n...                                                  ...  \n21573                     Scaffolds-staging, unspecified  \n21574                  Porches, balconies, decks, patios  \n21575                              Stairs, steps-indoors  \n21576                                    Carbon monoxide  \n21577                                     Bundles, bales  \n\n[21498 rows x 15 columns]",
      "text/html": "<div>\n<style scoped>\n    .dataframe tbody tr th:only-of-type {\n        vertical-align: middle;\n    }\n\n    .dataframe tbody tr th {\n        vertical-align: top;\n    }\n\n    .dataframe thead th {\n        text-align: right;\n    }\n</style>\n<table border=\"1\" class=\"dataframe\">\n  <thead>\n    <tr style=\"text-align: right;\">\n      <th></th>\n      <th>EventDate</th>\n      <th>City</th>\n      <th>State</th>\n      <th>Latitude</th>\n      <th>Longitude</th>\n      <th>Hospitalized</th>\n      <th>Amputation</th>\n      <th>Nature</th>\n      <th>NatureTitle</th>\n      <th>Part of Body</th>\n      <th>Part of Body Title</th>\n      <th>Event</th>\n      <th>EventTitle</th>\n      <th>Source</th>\n      <th>SourceTitle</th>\n    </tr>\n  </thead>\n  <tbody>\n    <tr>\n      <th>0</th>\n      <td>1/1/2015</td>\n      <td>OTISVILLE</td>\n      <td>NEW YORK</td>\n      <td>41.46</td>\n      <td>-74.53</td>\n      <td>1.0</td>\n      <td>0.0</td>\n      <td>111</td>\n      <td>Fractures</td>\n      <td>513</td>\n      <td>Lower leg(s)</td>\n      <td>1214</td>\n      <td>Injured by physical contact with person while ...</td>\n      <td>5721</td>\n      <td>Co-worker</td>\n    </tr>\n    <tr>\n      <th>1</th>\n      <td>1/1/2015</td>\n      <td>LAKE DELTON</td>\n      <td>WISCONSIN</td>\n      <td>43.59</td>\n      <td>-89.79</td>\n      <td>1.0</td>\n      <td>0.0</td>\n      <td>1522</td>\n      <td>Second degree heat (thermal) burns</td>\n      <td>519</td>\n      <td>Leg(s), n.e.c.</td>\n      <td>317</td>\n      <td>Ignition of vapors, gases, or liquids</td>\n      <td>7261</td>\n      <td>Welding, cutting, and blow torches</td>\n    </tr>\n    <tr>\n      <th>2</th>\n      <td>1/1/2015</td>\n      <td>CORAOPOLIS</td>\n      <td>PENNSYLVANIA</td>\n      <td>40.49</td>\n      <td>-80.11</td>\n      <td>1.0</td>\n      <td>0.0</td>\n      <td>10</td>\n      <td>Traumatic injuries and disorders, unspecified</td>\n      <td>9999</td>\n      <td>Nonclassifiable</td>\n      <td>4331</td>\n      <td>Other fall to lower level less than 6 feet</td>\n      <td>8421</td>\n      <td>Semi, tractor-trailer, tanker truck</td>\n    </tr>\n    <tr>\n      <th>3</th>\n      <td>1/1/2015</td>\n      <td>MACON</td>\n      <td>GEORGIA</td>\n      <td>32.77</td>\n      <td>-83.65</td>\n      <td>1.0</td>\n      <td>0.0</td>\n      <td>1972</td>\n      <td>Soreness, pain, hurt-nonspecified injury</td>\n      <td>510</td>\n      <td>Leg(s), unspecified</td>\n      <td>640</td>\n      <td>Caught in or compressed by equipment or object...</td>\n      <td>8623</td>\n      <td>Pallet jack-powered</td>\n    </tr>\n    <tr>\n      <th>4</th>\n      <td>1/1/2015</td>\n      <td>JANESVILLE</td>\n      <td>WISCONSIN</td>\n      <td>42.67</td>\n      <td>-89.04</td>\n      <td>1.0</td>\n      <td>0.0</td>\n      <td>111</td>\n      <td>Fractures</td>\n      <td>4429</td>\n      <td>Finger(s), fingernail(s), n.e.c.</td>\n      <td>6411</td>\n      <td>Caught in running equipment or machinery durin...</td>\n      <td>350</td>\n      <td>Metal, woodworking, and special material machi...</td>\n    </tr>\n    <tr>\n      <th>...</th>\n      <td>...</td>\n      <td>...</td>\n      <td>...</td>\n      <td>...</td>\n      <td>...</td>\n      <td>...</td>\n      <td>...</td>\n      <td>...</td>\n      <td>...</td>\n      <td>...</td>\n      <td>...</td>\n      <td>...</td>\n      <td>...</td>\n      <td>...</td>\n      <td>...</td>\n    </tr>\n    <tr>\n      <th>21573</th>\n      <td>2/28/2017</td>\n      <td>WASHINGTON</td>\n      <td>DISTRICT OF COLUMBIA</td>\n      <td>38.92</td>\n      <td>-76.99</td>\n      <td>1.0</td>\n      <td>0.0</td>\n      <td>1834</td>\n      <td>Fractures and dislocations</td>\n      <td>4420</td>\n      <td>Finger(s), fingernail(s), unspecified</td>\n      <td>4320</td>\n      <td>Fall through surface or existing opening, unsp...</td>\n      <td>6340</td>\n      <td>Scaffolds-staging, unspecified</td>\n    </tr>\n    <tr>\n      <th>21574</th>\n      <td>2/28/2017</td>\n      <td>NEENAH</td>\n      <td>WISCONSIN</td>\n      <td>44.16</td>\n      <td>-88.47</td>\n      <td>1.0</td>\n      <td>0.0</td>\n      <td>111</td>\n      <td>Fractures</td>\n      <td>899</td>\n      <td>Multiple body parts, n.e.c.</td>\n      <td>4332</td>\n      <td>Other fall to lower level 6 to 10 feet</td>\n      <td>6395</td>\n      <td>Porches, balconies, decks, patios</td>\n    </tr>\n    <tr>\n      <th>21575</th>\n      <td>2/28/2017</td>\n      <td>BRANSON</td>\n      <td>MISSOURI</td>\n      <td>36.61</td>\n      <td>-93.27</td>\n      <td>1.0</td>\n      <td>0.0</td>\n      <td>111</td>\n      <td>Fractures</td>\n      <td>513</td>\n      <td>Lower leg(s)</td>\n      <td>4331</td>\n      <td>Other fall to lower level less than 6 feet</td>\n      <td>6611</td>\n      <td>Stairs, steps-indoors</td>\n    </tr>\n    <tr>\n      <th>21576</th>\n      <td>2/28/2017</td>\n      <td>WEST FARGO</td>\n      <td>NORTH DAKOTA</td>\n      <td>46.87</td>\n      <td>-96.93</td>\n      <td>1.0</td>\n      <td>0.0</td>\n      <td>1961</td>\n      <td>Poisoning, including poisoning-related asphyxia</td>\n      <td>6</td>\n      <td>BODY SYSTEMS</td>\n      <td>5521</td>\n      <td>Inhalation of harmful substance-single episode</td>\n      <td>1741</td>\n      <td>Carbon monoxide</td>\n    </tr>\n    <tr>\n      <th>21577</th>\n      <td>2/28/2017</td>\n      <td>SPRINGDALE</td>\n      <td>ARKANSAS</td>\n      <td>36.17</td>\n      <td>-94.09</td>\n      <td>1.0</td>\n      <td>0.0</td>\n      <td>111</td>\n      <td>Fractures</td>\n      <td>510</td>\n      <td>Leg(s), unspecified</td>\n      <td>6239</td>\n      <td>Struck by falling object or equipment, n.e.c.</td>\n      <td>2131</td>\n      <td>Bundles, bales</td>\n    </tr>\n  </tbody>\n</table>\n<p>21498 rows × 15 columns</p>\n</div>"
     },
     "metadata": {},
     "output_type": "execute_result",
     "execution_count": 56
    }
   ],
   "source": [
    "df=df.drop(['Address1','Address2'],axis=1)\n",
    "df.dropna()\n"
   ],
   "metadata": {
    "collapsed": false,
    "pycharm": {
     "name": "#%%\n",
     "is_executing": false
    }
   }
  },
  {
   "cell_type": "markdown",
   "metadata": {},
   "outputs": [],
   "source": [
    "### 4) **(60%)** Nos blocos seguintes construa análises que vão justificar suas conclusões."
   ]
  },
  {
   "cell_type": "markdown",
   "source": [
    "Criando colunas adicionais para dia, mês e ano a partir de EventDate"
   ],
   "metadata": {
    "collapsed": false,
    "pycharm": {
     "name": "#%% md\n"
    }
   }
  },
  {
   "cell_type": "code",
   "execution_count": 57,
   "outputs": [
    {
     "data": {
      "text/plain": "  EventDate         City         State  Latitude  Longitude  Hospitalized  \\\n0  1/1/2015    OTISVILLE      NEW YORK     41.46     -74.53           1.0   \n1  1/1/2015  LAKE DELTON     WISCONSIN     43.59     -89.79           1.0   \n2  1/1/2015   CORAOPOLIS  PENNSYLVANIA     40.49     -80.11           1.0   \n3  1/1/2015        MACON       GEORGIA     32.77     -83.65           1.0   \n4  1/1/2015   JANESVILLE     WISCONSIN     42.67     -89.04           1.0   \n5  1/1/2015   CAPE CORAL       FLORIDA     26.68     -81.91           1.0   \n6  1/1/2015        TAMPA       FLORIDA     27.96     -82.38           0.0   \n7  1/2/2015         GILL      COLORADO     40.47    -104.51           1.0   \n8  1/2/2015     WOODWARD      OKLAHOMA     36.42     -99.43           1.0   \n9  1/2/2015      ORLANDO       FLORIDA     28.55     -81.46           0.0   \n\n   Amputation  Nature                                    NatureTitle  \\\n0         0.0     111                                      Fractures   \n1         0.0    1522             Second degree heat (thermal) burns   \n2         0.0      10  Traumatic injuries and disorders, unspecified   \n3         0.0    1972       Soreness, pain, hurt-nonspecified injury   \n4         0.0     111                                      Fractures   \n5         0.0    1972       Soreness, pain, hurt-nonspecified injury   \n6         1.0    1311                                    Amputations   \n7         0.0    1520              Heat (thermal) burns, unspecified   \n8         0.0      10  Traumatic injuries and disorders, unspecified   \n9         1.0    1311                                    Amputations   \n\n   Part of Body                Part of Body Title  Event  \\\n0           513                      Lower leg(s)   1214   \n1           519                    Leg(s), n.e.c.    317   \n2          9999                   Nonclassifiable   4331   \n3           510               Leg(s), unspecified    640   \n4          4429  Finger(s), fingernail(s), n.e.c.   6411   \n5           422                          Elbow(s)    422   \n6          4422                      Fingertip(s)   6412   \n7          9999                   Nonclassifiable   9999   \n8          9999                   Nonclassifiable    620   \n9          4422                      Fingertip(s)   6252   \n\n                                          EventTitle  Source  \\\n0  Injured by physical contact with person while ...    5721   \n1              Ignition of vapors, gases, or liquids    7261   \n2         Other fall to lower level less than 6 feet    8421   \n3  Caught in or compressed by equipment or object...    8623   \n4  Caught in running equipment or machinery durin...     350   \n5                Fall on same level due to slipping      660   \n6  Caught in running equipment or machinery durin...     370   \n7                                    Nonclassifiable    9999   \n8         Struck by object or equipment, unspecified    4813   \n9  Injured by slipping or swinging object held by...    7125   \n\n                                         SourceTitle  year  month  day  \n0                                          Co-worker  2015      1    1  \n1                 Welding, cutting, and blow torches  2015      1    1  \n2                Semi, tractor-trailer, tanker truck  2015      1    1  \n3                                Pallet jack-powered  2015      1    1  \n4  Metal, woodworking, and special material machi...  2015      1    1  \n5     Floors, walkways, ground surfaces, unspecified  2015      1    1  \n6             Special process machinery, unspecified  2015      1    1  \n7                                    Nonclassifiable  2015      1    2  \n8                                 Tires, except bike  2015      1    2  \n9                      Knives, unspecified or n.e.c.  2015      1    2  ",
      "text/html": "<div>\n<style scoped>\n    .dataframe tbody tr th:only-of-type {\n        vertical-align: middle;\n    }\n\n    .dataframe tbody tr th {\n        vertical-align: top;\n    }\n\n    .dataframe thead th {\n        text-align: right;\n    }\n</style>\n<table border=\"1\" class=\"dataframe\">\n  <thead>\n    <tr style=\"text-align: right;\">\n      <th></th>\n      <th>EventDate</th>\n      <th>City</th>\n      <th>State</th>\n      <th>Latitude</th>\n      <th>Longitude</th>\n      <th>Hospitalized</th>\n      <th>Amputation</th>\n      <th>Nature</th>\n      <th>NatureTitle</th>\n      <th>Part of Body</th>\n      <th>Part of Body Title</th>\n      <th>Event</th>\n      <th>EventTitle</th>\n      <th>Source</th>\n      <th>SourceTitle</th>\n      <th>year</th>\n      <th>month</th>\n      <th>day</th>\n    </tr>\n  </thead>\n  <tbody>\n    <tr>\n      <th>0</th>\n      <td>1/1/2015</td>\n      <td>OTISVILLE</td>\n      <td>NEW YORK</td>\n      <td>41.46</td>\n      <td>-74.53</td>\n      <td>1.0</td>\n      <td>0.0</td>\n      <td>111</td>\n      <td>Fractures</td>\n      <td>513</td>\n      <td>Lower leg(s)</td>\n      <td>1214</td>\n      <td>Injured by physical contact with person while ...</td>\n      <td>5721</td>\n      <td>Co-worker</td>\n      <td>2015</td>\n      <td>1</td>\n      <td>1</td>\n    </tr>\n    <tr>\n      <th>1</th>\n      <td>1/1/2015</td>\n      <td>LAKE DELTON</td>\n      <td>WISCONSIN</td>\n      <td>43.59</td>\n      <td>-89.79</td>\n      <td>1.0</td>\n      <td>0.0</td>\n      <td>1522</td>\n      <td>Second degree heat (thermal) burns</td>\n      <td>519</td>\n      <td>Leg(s), n.e.c.</td>\n      <td>317</td>\n      <td>Ignition of vapors, gases, or liquids</td>\n      <td>7261</td>\n      <td>Welding, cutting, and blow torches</td>\n      <td>2015</td>\n      <td>1</td>\n      <td>1</td>\n    </tr>\n    <tr>\n      <th>2</th>\n      <td>1/1/2015</td>\n      <td>CORAOPOLIS</td>\n      <td>PENNSYLVANIA</td>\n      <td>40.49</td>\n      <td>-80.11</td>\n      <td>1.0</td>\n      <td>0.0</td>\n      <td>10</td>\n      <td>Traumatic injuries and disorders, unspecified</td>\n      <td>9999</td>\n      <td>Nonclassifiable</td>\n      <td>4331</td>\n      <td>Other fall to lower level less than 6 feet</td>\n      <td>8421</td>\n      <td>Semi, tractor-trailer, tanker truck</td>\n      <td>2015</td>\n      <td>1</td>\n      <td>1</td>\n    </tr>\n    <tr>\n      <th>3</th>\n      <td>1/1/2015</td>\n      <td>MACON</td>\n      <td>GEORGIA</td>\n      <td>32.77</td>\n      <td>-83.65</td>\n      <td>1.0</td>\n      <td>0.0</td>\n      <td>1972</td>\n      <td>Soreness, pain, hurt-nonspecified injury</td>\n      <td>510</td>\n      <td>Leg(s), unspecified</td>\n      <td>640</td>\n      <td>Caught in or compressed by equipment or object...</td>\n      <td>8623</td>\n      <td>Pallet jack-powered</td>\n      <td>2015</td>\n      <td>1</td>\n      <td>1</td>\n    </tr>\n    <tr>\n      <th>4</th>\n      <td>1/1/2015</td>\n      <td>JANESVILLE</td>\n      <td>WISCONSIN</td>\n      <td>42.67</td>\n      <td>-89.04</td>\n      <td>1.0</td>\n      <td>0.0</td>\n      <td>111</td>\n      <td>Fractures</td>\n      <td>4429</td>\n      <td>Finger(s), fingernail(s), n.e.c.</td>\n      <td>6411</td>\n      <td>Caught in running equipment or machinery durin...</td>\n      <td>350</td>\n      <td>Metal, woodworking, and special material machi...</td>\n      <td>2015</td>\n      <td>1</td>\n      <td>1</td>\n    </tr>\n    <tr>\n      <th>5</th>\n      <td>1/1/2015</td>\n      <td>CAPE CORAL</td>\n      <td>FLORIDA</td>\n      <td>26.68</td>\n      <td>-81.91</td>\n      <td>1.0</td>\n      <td>0.0</td>\n      <td>1972</td>\n      <td>Soreness, pain, hurt-nonspecified injury</td>\n      <td>422</td>\n      <td>Elbow(s)</td>\n      <td>422</td>\n      <td>Fall on same level due to slipping</td>\n      <td>660</td>\n      <td>Floors, walkways, ground surfaces, unspecified</td>\n      <td>2015</td>\n      <td>1</td>\n      <td>1</td>\n    </tr>\n    <tr>\n      <th>6</th>\n      <td>1/1/2015</td>\n      <td>TAMPA</td>\n      <td>FLORIDA</td>\n      <td>27.96</td>\n      <td>-82.38</td>\n      <td>0.0</td>\n      <td>1.0</td>\n      <td>1311</td>\n      <td>Amputations</td>\n      <td>4422</td>\n      <td>Fingertip(s)</td>\n      <td>6412</td>\n      <td>Caught in running equipment or machinery durin...</td>\n      <td>370</td>\n      <td>Special process machinery, unspecified</td>\n      <td>2015</td>\n      <td>1</td>\n      <td>1</td>\n    </tr>\n    <tr>\n      <th>7</th>\n      <td>1/2/2015</td>\n      <td>GILL</td>\n      <td>COLORADO</td>\n      <td>40.47</td>\n      <td>-104.51</td>\n      <td>1.0</td>\n      <td>0.0</td>\n      <td>1520</td>\n      <td>Heat (thermal) burns, unspecified</td>\n      <td>9999</td>\n      <td>Nonclassifiable</td>\n      <td>9999</td>\n      <td>Nonclassifiable</td>\n      <td>9999</td>\n      <td>Nonclassifiable</td>\n      <td>2015</td>\n      <td>1</td>\n      <td>2</td>\n    </tr>\n    <tr>\n      <th>8</th>\n      <td>1/2/2015</td>\n      <td>WOODWARD</td>\n      <td>OKLAHOMA</td>\n      <td>36.42</td>\n      <td>-99.43</td>\n      <td>1.0</td>\n      <td>0.0</td>\n      <td>10</td>\n      <td>Traumatic injuries and disorders, unspecified</td>\n      <td>9999</td>\n      <td>Nonclassifiable</td>\n      <td>620</td>\n      <td>Struck by object or equipment, unspecified</td>\n      <td>4813</td>\n      <td>Tires, except bike</td>\n      <td>2015</td>\n      <td>1</td>\n      <td>2</td>\n    </tr>\n    <tr>\n      <th>9</th>\n      <td>1/2/2015</td>\n      <td>ORLANDO</td>\n      <td>FLORIDA</td>\n      <td>28.55</td>\n      <td>-81.46</td>\n      <td>0.0</td>\n      <td>1.0</td>\n      <td>1311</td>\n      <td>Amputations</td>\n      <td>4422</td>\n      <td>Fingertip(s)</td>\n      <td>6252</td>\n      <td>Injured by slipping or swinging object held by...</td>\n      <td>7125</td>\n      <td>Knives, unspecified or n.e.c.</td>\n      <td>2015</td>\n      <td>1</td>\n      <td>2</td>\n    </tr>\n  </tbody>\n</table>\n</div>"
     },
     "metadata": {},
     "output_type": "execute_result",
     "execution_count": 57
    }
   ],
   "source": [
    "df['year'] = pd.DatetimeIndex(df['EventDate']).year\n",
    "df['month'] = pd.DatetimeIndex(df['EventDate']).month\n",
    "df['day'] = pd.DatetimeIndex(df['EventDate']).day\n",
    "\n",
    "df.head(10)"
   ],
   "metadata": {
    "collapsed": false,
    "pycharm": {
     "name": "#%%\n",
     "is_executing": false
    }
   }
  },
  {
   "cell_type": "markdown",
   "source": [
    "Tendo uma visão geral de número de acidentes, mas por cidade, usando geopandas"
   ],
   "metadata": {
    "collapsed": false,
    "pycharm": {
     "name": "#%% md\n"
    }
   }
  },
  {
   "cell_type": "code",
   "execution_count": 58,
   "outputs": [
    {
     "name": "stdout",
     "text": [
      "  EventDate         City         State  Latitude  Longitude  Hospitalized  \\\n0  1/1/2015    OTISVILLE      NEW YORK     41.46     -74.53           1.0   \n1  1/1/2015  LAKE DELTON     WISCONSIN     43.59     -89.79           1.0   \n2  1/1/2015   CORAOPOLIS  PENNSYLVANIA     40.49     -80.11           1.0   \n3  1/1/2015        MACON       GEORGIA     32.77     -83.65           1.0   \n4  1/1/2015   JANESVILLE     WISCONSIN     42.67     -89.04           1.0   \n\n   Amputation  Nature                                    NatureTitle  \\\n0         0.0     111                                      Fractures   \n1         0.0    1522             Second degree heat (thermal) burns   \n2         0.0      10  Traumatic injuries and disorders, unspecified   \n3         0.0    1972       Soreness, pain, hurt-nonspecified injury   \n4         0.0     111                                      Fractures   \n\n   Part of Body                Part of Body Title  Event  \\\n0           513                      Lower leg(s)   1214   \n1           519                    Leg(s), n.e.c.    317   \n2          9999                   Nonclassifiable   4331   \n3           510               Leg(s), unspecified    640   \n4          4429  Finger(s), fingernail(s), n.e.c.   6411   \n\n                                          EventTitle  Source  \\\n0  Injured by physical contact with person while ...    5721   \n1              Ignition of vapors, gases, or liquids    7261   \n2         Other fall to lower level less than 6 feet    8421   \n3  Caught in or compressed by equipment or object...    8623   \n4  Caught in running equipment or machinery durin...     350   \n\n                                         SourceTitle  year  month  day  \\\n0                                          Co-worker  2015      1    1   \n1                 Welding, cutting, and blow torches  2015      1    1   \n2                Semi, tractor-trailer, tanker truck  2015      1    1   \n3                                Pallet jack-powered  2015      1    1   \n4  Metal, woodworking, and special material machi...  2015      1    1   \n\n                     geometry  \n0  POINT (-74.53000 41.46000)  \n1  POINT (-89.79000 43.59000)  \n2  POINT (-80.11000 40.49000)  \n3  POINT (-83.65000 32.77000)  \n4  POINT (-89.04000 42.67000)  \n"
     ],
     "output_type": "stream"
    },
    {
     "data": {
      "text/plain": "<matplotlib.axes._subplots.AxesSubplot at 0x12173b2e8>"
     },
     "metadata": {},
     "output_type": "execute_result",
     "execution_count": 58
    },
    {
     "data": {
      "text/plain": "<Figure size 432x288 with 1 Axes>",
      "image/png": "[encoded data removed]"
     },
     "metadata": {
      "needs_background": "light"
     },
     "output_type": "display_data"
    }
   ],
   "source": [
    "#ax = df[df.continent == 'North America'].plot(\n",
    "#    color='white', edgecolor='black')\n",
    "\n",
    "gdf = geopandas.GeoDataFrame(\n",
    "    df, geometry=geopandas.points_from_xy(df.Longitude, df.Latitude))\n",
    "\n",
    "print(gdf.head())\n",
    "\n",
    "# We restrict to South America.\n",
    "\n",
    "# We can now plot our ``GeoDataFrame``.\n",
    "gdf.plot(color='red')"
   ],
   "metadata": {
    "collapsed": false,
    "pycharm": {
     "name": "#%%\n",
     "is_executing": false
    }
   }
  },
  {
   "cell_type": "code",
   "execution_count": 64,
   "outputs": [
    {
     "data": {
      "text/plain": "<Figure size 432x288 with 1 Axes>",
      "image/png": "[encoded data removed]"
     },
     "metadata": {
      "needs_background": "light"
     },
     "output_type": "display_data"
    }
   ],
   "source": [
    "plt.title(\"Histograma de idades dos passageiros do Titanic\")\n",
    "plt.show()\n"
   ],
   "metadata": {
    "collapsed": false,
    "pycharm": {
     "name": "#%%\n",
     "is_executing": false
    }
   }
  },
  {
   "cell_type": "markdown",
   "metadata": {},
   "outputs": [],
   "source": [
    "#### 4.1) **(20%)** Análise 1 -  Distribuição dos valores para cada uma das variáveis\n",
    "- Exemplo para variável contínua: se o conjunto de dados possui a variável \"idade\". Quantos % possui a idade entre 0 e 30 anos? 31 a 59? 60+?\n",
    "\n",
    "- Exemplo para variável discreta: se o conjunto de dados possui a variável \"gênero\", quantos % do conjunto de dados é do sexo feminino, quantos % é masculino? Inclua outros gêneros se houver.\n"
   ]
  },
  {
   "cell_type": "code",
   "execution_count": 59,
   "metadata": {
    "pycharm": {
     "is_executing": false
    }
   },
   "outputs": [],
   "source": [
    "# Implemente sua análise aqui. Use mais blocos se achar que ficará mais organizado."
   ]
  },
  {
   "cell_type": "markdown",
   "metadata": {},
   "outputs": [],
   "source": [
    "#### 4.2) **(20%)** Análise 2 - Dependência entre variáveis\n",
    "O aluno deve apresentar as mesmas distribuições para cada valor da variável dependente. Exemplo: Em um conjunto de dados em que as variáveis independentes são idade e sexo, e a variável dependente é renda. O aluno pode dividir a renda em 3 \"grupos\", <1000 reais, entre 1000 e 10000 reais e >1000 reais. Para cada um desses grupos, é necessário apresentar a distribuição das variáveis \"idade\" e \"sexo\".\n"
   ]
  },
  {
   "cell_type": "code",
   "execution_count": 60,
   "metadata": {
    "pycharm": {
     "is_executing": false
    }
   },
   "outputs": [],
   "source": [
    "# Implemente sua análise aqui. Use mais blocos se achar que ficará mais organizado."
   ]
  },
  {
   "cell_type": "markdown",
   "metadata": {},
   "outputs": [],
   "source": [
    "#### 4.3) **(20%)** Análise 3 - Correlação entre variáveis\n",
    "\n",
    "O aluno deve apresentar 3 análises de correlação entre variáveis do conjunto de dados trabalhado. Exemplo: Em um conjunto de dados com as informações de temperatura e ocorrência de incêndios, eu gostaria de saber a incidência de correlação entre as duas variáveis.\n",
    "\n"
   ]
  },
  {
   "cell_type": "code",
   "execution_count": 61,
   "metadata": {
    "pycharm": {
     "is_executing": false
    }
   },
   "outputs": [],
   "source": [
    "# Primeiro par de variáveis: Implemente sua análise aqui. Use mais blocos se achar que ficará mais organizado."
   ]
  },
  {
   "cell_type": "code",
   "execution_count": 62,
   "metadata": {
    "pycharm": {
     "is_executing": false
    }
   },
   "outputs": [],
   "source": [
    "# Segundo par de variáveis: Implemente sua análise aqui. Use mais blocos se achar que ficará mais organizado."
   ]
  },
  {
   "cell_type": "code",
   "execution_count": 63,
   "metadata": {
    "pycharm": {
     "is_executing": false
    }
   },
   "outputs": [],
   "source": [
    "# Terceiro par de variáveis: Implemente sua análise aqui. Use mais blocos se achar que ficará mais organizado."
   ]
  },
  {
   "cell_type": "markdown",
   "metadata": {},
   "outputs": [],
   "source": [
    "### 5) Conclusões **15%**"
   ]
  },
  {
   "cell_type": "markdown",
   "metadata": {},
   "outputs": [],
   "source": [
    "*O que é possível concluir com os dados que você analisou? Se fosse fazer uma apresentação, o que levaria como os maiores destaques e por que?*"
   ]
  },
  {
   "cell_type": "markdown",
   "metadata": {},
   "outputs": [],
   "source": []
  }
 ],
 "metadata": {
  "file_extension": ".py",
  "kernelspec": {
   "display_name": "Python 3",
   "language": "python",
   "name": "python3"
  },
  "language_info": {
   "codemirror_mode": {
    "name": "ipython",
    "version": 3
   },
   "file_extension": ".py",
   "mimetype": "text/x-python",
   "name": "python",
   "nbconvert_exporter": "python",
   "pygments_lexer": "ipython3",
   "version": "3.7.4"
  },
  "mimetype": "text/x-python",
  "name": "python",
  "npconvert_exporter": "python",
  "pygments_lexer": "ipython3",
  "version": 3,
  "pycharm": {
   "stem_cell": {
    "cell_type": "raw",
    "source": [],
    "metadata": {
     "collapsed": false
    }
   }
  }
 },
 "nbformat": 4,
 "nbformat_minor": 2
}